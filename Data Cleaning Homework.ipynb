{
 "cells": [
  {
   "cell_type": "markdown",
   "metadata": {},
   "source": [
    "## Data Cleaning Assignment\n",
    "To complete this challenge, determine the five most common journals and the total articles for each. Next, calculate the mean, median, and standard deviation of the open-access cost per article for each journal.\n",
    "\n",
    "<a href=\"https://tf-assets-prod.s3.amazonaws.com/tf-curric/data-science/WELLCOME/WELLCOME_APCspend2013_forThinkful.csv\">CSV file</a> and <a href=\"https://tf-assets-prod.s3.amazonaws.com/tf-curric/data-science/WELLCOME/Readme_file.docx\">description of the dataset</a>"
   ]
  },
  {
   "cell_type": "code",
   "execution_count": 1,
   "metadata": {},
   "outputs": [
    {
     "data": {
      "text/html": [
       "<div>\n",
       "<style scoped>\n",
       "    .dataframe tbody tr th:only-of-type {\n",
       "        vertical-align: middle;\n",
       "    }\n",
       "\n",
       "    .dataframe tbody tr th {\n",
       "        vertical-align: top;\n",
       "    }\n",
       "\n",
       "    .dataframe thead th {\n",
       "        text-align: right;\n",
       "    }\n",
       "</style>\n",
       "<table border=\"1\" class=\"dataframe\">\n",
       "  <thead>\n",
       "    <tr style=\"text-align: right;\">\n",
       "      <th></th>\n",
       "      <th>PMID/PMCID</th>\n",
       "      <th>Publisher</th>\n",
       "      <th>Journal title</th>\n",
       "      <th>Article title</th>\n",
       "      <th>COST (£) charged to Wellcome (inc VAT when charged)</th>\n",
       "    </tr>\n",
       "  </thead>\n",
       "  <tbody>\n",
       "    <tr>\n",
       "      <th>0</th>\n",
       "      <td>NaN</td>\n",
       "      <td>CUP</td>\n",
       "      <td>Psychological Medicine</td>\n",
       "      <td>Reduced parahippocampal cortical thickness in ...</td>\n",
       "      <td>£0.00</td>\n",
       "    </tr>\n",
       "    <tr>\n",
       "      <th>1</th>\n",
       "      <td>PMC3679557</td>\n",
       "      <td>ACS</td>\n",
       "      <td>Biomacromolecules</td>\n",
       "      <td>Structural characterization of a Model Gram-ne...</td>\n",
       "      <td>£2381.04</td>\n",
       "    </tr>\n",
       "  </tbody>\n",
       "</table>\n",
       "</div>"
      ],
      "text/plain": [
       "   PMID/PMCID Publisher           Journal title  \\\n",
       "0         NaN       CUP  Psychological Medicine   \n",
       "1  PMC3679557       ACS       Biomacromolecules   \n",
       "\n",
       "                                       Article title  \\\n",
       "0  Reduced parahippocampal cortical thickness in ...   \n",
       "1  Structural characterization of a Model Gram-ne...   \n",
       "\n",
       "  COST (£) charged to Wellcome (inc VAT when charged)  \n",
       "0                                              £0.00   \n",
       "1                                           £2381.04   "
      ]
     },
     "execution_count": 1,
     "metadata": {},
     "output_type": "execute_result"
    }
   ],
   "source": [
    "import pandas as pd\n",
    "import numpy as np\n",
    "import re\n",
    "import seaborn as sns\n",
    "import matplotlib.pyplot as plt\n",
    "\n",
    "##used encoding = \"ISO-8859-1\" to overcome unicode decoding error\n",
    "initial = pd.read_csv('C:\\Thinkful\\Data Cleaning\\WELLCOME_APCspend2013_forThinkful.csv', encoding=\"ISO-8859-1\")\n",
    "initial.head(2)"
   ]
  },
  {
   "cell_type": "code",
   "execution_count": 2,
   "metadata": {},
   "outputs": [
    {
     "data": {
      "text/plain": [
       "PLoS One                                           92\n",
       "PLoS ONE                                           62\n",
       "Journal of Biological Chemistry                    48\n",
       "Nucleic Acids Research                             21\n",
       "Proceedings of the National Academy of Sciences    19\n",
       "Name: Journal title, dtype: int64"
      ]
     },
     "execution_count": 2,
     "metadata": {},
     "output_type": "execute_result"
    }
   ],
   "source": [
    "##change bad column name\n",
    "initial.rename({'COST (£) charged to Wellcome (inc VAT when charged)': 'Cost'}, axis='columns', inplace=True)\n",
    "\n",
    "##begin to clean and standardize journal titles\n",
    "initial['Journal title'].value_counts().head()\n",
    "##first step seems to be to consolidate PLoS One entries"
   ]
  },
  {
   "cell_type": "code",
   "execution_count": 3,
   "metadata": {},
   "outputs": [
    {
     "data": {
      "text/plain": [
       "PLOS ONE                                                   206\n",
       "Journal of Biological Chemistry                             48\n",
       "Nucleic Acids Research                                      21\n",
       "Proceedings of the National Academy of Sciences             19\n",
       "PLoS Neglected Tropical Diseases                            18\n",
       "Human Molecular Genetics                                    18\n",
       "Nature Communications                                       17\n",
       "PLoS Pathogens                                              15\n",
       "Neuroimage                                                  15\n",
       "PLoS Genetics                                               15\n",
       "NeuroImage                                                  14\n",
       "BMC Public Health                                           14\n",
       "Brain                                                       14\n",
       "Movement Disorders                                          13\n",
       "Developmental Cell                                          12\n",
       "Journal of Neuroscience                                     12\n",
       "Biochemical Journal                                         12\n",
       "Journal of General Virology                                 11\n",
       "Current Biology                                             10\n",
       "BMJ                                                         10\n",
       "Neuron                                                       9\n",
       "Cell Reports                                                 9\n",
       "Malaria Journal                                              8\n",
       "Journal of Structural Biology                                8\n",
       "Journal of Physiology                                        8\n",
       "Journal of Cell Science                                      8\n",
       "Hepatology                                                   8\n",
       "Development                                                  8\n",
       "Journal of Clinical Endocrinology and Metabolism             8\n",
       "Neurobiology of Aging                                        8\n",
       "Journal of Virology                                          8\n",
       "European Journal of Immunology                               8\n",
       "Molecular Microbiology                                       8\n",
       "Proceedings of the Royal Society B: Biological Sciences      8\n",
       "Elsevier                                                     7\n",
       "EMBO Journal                                                 7\n",
       "PLOS Genetics                                                7\n",
       "Neuropsychologia                                             7\n",
       "Blood                                                        7\n",
       "Cerebral Cortex                                              7\n",
       "FASEB Journal                                                7\n",
       "PLOS Pathogens                                               7\n",
       "Journal of the Royal Society Interface                       6\n",
       "Parasitology                                                 6\n",
       "Structure                                                    6\n",
       "PNAS                                                         6\n",
       "Traffic                                                      6\n",
       "Cortex                                                       6\n",
       "Journal of Neurophysiology                                   6\n",
       "Preventive Medicine                                          6\n",
       "Name: Journal title, dtype: int64"
      ]
     },
     "execution_count": 3,
     "metadata": {},
     "output_type": "execute_result"
    }
   ],
   "source": [
    "##used regex to consolidate PLOS ONE\n",
    "initial['Journal title'] = initial['Journal title'].apply(lambda x: re.sub(r'plos one|plosone|plos 1', 'PLOS ONE', str(x), flags=re.I))\n",
    "initial['Journal title'].value_counts().head(50)"
   ]
  },
  {
   "cell_type": "code",
   "execution_count": 4,
   "metadata": {},
   "outputs": [
    {
     "data": {
      "text/plain": [
       "0"
      ]
     },
     "execution_count": 4,
     "metadata": {},
     "output_type": "execute_result"
    }
   ],
   "source": [
    "##check for null values\n",
    "initial['Journal title'].isnull().sum()"
   ]
  },
  {
   "cell_type": "code",
   "execution_count": 5,
   "metadata": {},
   "outputs": [
    {
     "data": {
      "text/plain": [
       "0"
      ]
     },
     "execution_count": 5,
     "metadata": {},
     "output_type": "execute_result"
    }
   ],
   "source": [
    "initial['Cost'].isnull().sum()"
   ]
  },
  {
   "cell_type": "markdown",
   "metadata": {},
   "source": [
    "#### Five most common journals and article counts:"
   ]
  },
  {
   "cell_type": "code",
   "execution_count": 6,
   "metadata": {},
   "outputs": [
    {
     "data": {
      "text/plain": [
       "PLOS ONE                                           206\n",
       "Journal of Biological Chemistry                     48\n",
       "Nucleic Acids Research                              21\n",
       "Proceedings of the National Academy of Sciences     19\n",
       "PLoS Neglected Tropical Diseases                    18\n",
       "Name: Journal title, dtype: int64"
      ]
     },
     "execution_count": 6,
     "metadata": {},
     "output_type": "execute_result"
    }
   ],
   "source": [
    "initial['Journal title'].value_counts().head(5)"
   ]
  },
  {
   "cell_type": "markdown",
   "metadata": {},
   "source": [
    "#### Summary Statistics"
   ]
  },
  {
   "cell_type": "code",
   "execution_count": 7,
   "metadata": {},
   "outputs": [
    {
     "data": {
      "text/plain": [
       "0       £0.00\n",
       "1    £2381.04\n",
       "2     £642.56\n",
       "3     £669.64\n",
       "4     £685.88\n",
       "Name: Cost, dtype: object"
      ]
     },
     "execution_count": 7,
     "metadata": {},
     "output_type": "execute_result"
    }
   ],
   "source": [
    "initial['Cost'].head()"
   ]
  },
  {
   "cell_type": "markdown",
   "metadata": {},
   "source": [
    "Looks like we need to strip the pound sign and convert the column from str to int so we can perform statistical analysis."
   ]
  },
  {
   "cell_type": "code",
   "execution_count": 8,
   "metadata": {},
   "outputs": [
    {
     "data": {
      "text/plain": [
       "0       0\n",
       "1    2381\n",
       "2     642\n",
       "3     669\n",
       "4     685\n",
       "Name: Cost, dtype: int64"
      ]
     },
     "execution_count": 8,
     "metadata": {},
     "output_type": "execute_result"
    }
   ],
   "source": [
    "##use regex to remove all non numeric chars from cost column\n",
    "initial['Cost'] = initial['Cost'].apply(lambda x: re.sub('[^\\.0-9]', '', x))\n",
    "##convert column to float\n",
    "initial['Cost'] = pd.to_numeric(initial['Cost'])\n",
    "##convert column to int\n",
    "initial['Cost'] = initial['Cost'].apply(lambda x: int(x))\n",
    "initial['Cost'].head()"
   ]
  },
  {
   "cell_type": "markdown",
   "metadata": {},
   "source": [
    "Let's plot the costs to explore the data."
   ]
  },
  {
   "cell_type": "code",
   "execution_count": 9,
   "metadata": {},
   "outputs": [
    {
     "data": {
      "text/plain": [
       "<matplotlib.axes._subplots.AxesSubplot at 0x6fd2d50>"
      ]
     },
     "execution_count": 9,
     "metadata": {},
     "output_type": "execute_result"
    },
    {
     "data": {
      "image/png": "[encoded data removed]",
      "text/plain": [
       "<Figure size 432x288 with 1 Axes>"
      ]
     },
     "metadata": {},
     "output_type": "display_data"
    }
   ],
   "source": [
    "sns.set(color_codes=True)\n",
    "sns.set(style=\"white\", palette=\"muted\")\n",
    "sns.distplot(initial.Cost)"
   ]
  },
  {
   "cell_type": "markdown",
   "metadata": {},
   "source": [
    "It looks like there is a very large outlier, let's try to find the reason."
   ]
  },
  {
   "cell_type": "code",
   "execution_count": 10,
   "metadata": {},
   "outputs": [
    {
     "data": {
      "text/plain": [
       "2127"
      ]
     },
     "execution_count": 10,
     "metadata": {},
     "output_type": "execute_result"
    }
   ],
   "source": [
    "##count total values in cost column\n",
    "initial.Cost.count()"
   ]
  },
  {
   "cell_type": "code",
   "execution_count": 11,
   "metadata": {},
   "outputs": [
    {
     "data": {
      "text/html": [
       "<div>\n",
       "<style scoped>\n",
       "    .dataframe tbody tr th:only-of-type {\n",
       "        vertical-align: middle;\n",
       "    }\n",
       "\n",
       "    .dataframe tbody tr th {\n",
       "        vertical-align: top;\n",
       "    }\n",
       "\n",
       "    .dataframe thead th {\n",
       "        text-align: right;\n",
       "    }\n",
       "</style>\n",
       "<table border=\"1\" class=\"dataframe\">\n",
       "  <thead>\n",
       "    <tr style=\"text-align: right;\">\n",
       "      <th></th>\n",
       "      <th>PMID/PMCID</th>\n",
       "      <th>Publisher</th>\n",
       "      <th>Journal title</th>\n",
       "      <th>Article title</th>\n",
       "    </tr>\n",
       "    <tr>\n",
       "      <th>Cost</th>\n",
       "      <th></th>\n",
       "      <th></th>\n",
       "      <th></th>\n",
       "      <th></th>\n",
       "    </tr>\n",
       "  </thead>\n",
       "  <tbody>\n",
       "    <tr>\n",
       "      <th>201024</th>\n",
       "      <td>1</td>\n",
       "      <td>1</td>\n",
       "      <td>1</td>\n",
       "      <td>1</td>\n",
       "    </tr>\n",
       "    <tr>\n",
       "      <th>999999</th>\n",
       "      <td>40</td>\n",
       "      <td>47</td>\n",
       "      <td>47</td>\n",
       "      <td>47</td>\n",
       "    </tr>\n",
       "  </tbody>\n",
       "</table>\n",
       "</div>"
      ],
      "text/plain": [
       "        PMID/PMCID  Publisher  Journal title  Article title\n",
       "Cost                                                       \n",
       "201024           1          1              1              1\n",
       "999999          40         47             47             47"
      ]
     },
     "execution_count": 11,
     "metadata": {},
     "output_type": "execute_result"
    }
   ],
   "source": [
    "##count the number of dirty outlier values\n",
    "initial.groupby('Cost').count().tail(2)"
   ]
  },
  {
   "cell_type": "code",
   "execution_count": 12,
   "metadata": {},
   "outputs": [
    {
     "data": {
      "text/html": [
       "<div>\n",
       "<style scoped>\n",
       "    .dataframe tbody tr th:only-of-type {\n",
       "        vertical-align: middle;\n",
       "    }\n",
       "\n",
       "    .dataframe tbody tr th {\n",
       "        vertical-align: top;\n",
       "    }\n",
       "\n",
       "    .dataframe thead th {\n",
       "        text-align: right;\n",
       "    }\n",
       "</style>\n",
       "<table border=\"1\" class=\"dataframe\">\n",
       "  <thead>\n",
       "    <tr style=\"text-align: right;\">\n",
       "      <th></th>\n",
       "      <th>PMID/PMCID</th>\n",
       "      <th>Publisher</th>\n",
       "      <th>Journal title</th>\n",
       "      <th>Article title</th>\n",
       "    </tr>\n",
       "    <tr>\n",
       "      <th>Cost</th>\n",
       "      <th></th>\n",
       "      <th></th>\n",
       "      <th></th>\n",
       "      <th></th>\n",
       "    </tr>\n",
       "  </thead>\n",
       "  <tbody>\n",
       "    <tr>\n",
       "      <th>0</th>\n",
       "      <td>0</td>\n",
       "      <td>1</td>\n",
       "      <td>1</td>\n",
       "      <td>1</td>\n",
       "    </tr>\n",
       "    <tr>\n",
       "      <th>9</th>\n",
       "      <td>1</td>\n",
       "      <td>1</td>\n",
       "      <td>1</td>\n",
       "      <td>1</td>\n",
       "    </tr>\n",
       "  </tbody>\n",
       "</table>\n",
       "</div>"
      ],
      "text/plain": [
       "      PMID/PMCID  Publisher  Journal title  Article title\n",
       "Cost                                                     \n",
       "0              0          1              1              1\n",
       "9              1          1              1              1"
      ]
     },
     "execution_count": 12,
     "metadata": {},
     "output_type": "execute_result"
    }
   ],
   "source": [
    "##see zero values\n",
    "initial.groupby('Cost').count().head(2)"
   ]
  },
  {
   "cell_type": "markdown",
   "metadata": {},
   "source": [
    "So we have 47 out of over 2000 values that seem to be dirty. Simply dropping them would seem the best way to improve the sample. "
   ]
  },
  {
   "cell_type": "code",
   "execution_count": 13,
   "metadata": {},
   "outputs": [
    {
     "data": {
      "text/plain": [
       "1987    201024\n",
       "1470    192645\n",
       "986      13200\n",
       "1619      6000\n",
       "800       5760\n",
       "Name: Cost, dtype: int64"
      ]
     },
     "execution_count": 13,
     "metadata": {},
     "output_type": "execute_result"
    }
   ],
   "source": [
    "##drop rows with 999999 as cost\n",
    "clean_cost = initial[initial['Cost'] != 999999].sort_values('Cost', ascending=False)\n",
    "clean_cost.Cost.head()"
   ]
  },
  {
   "cell_type": "code",
   "execution_count": 14,
   "metadata": {},
   "outputs": [
    {
     "data": {
      "text/plain": [
       "<matplotlib.axes._subplots.AxesSubplot at 0x162d7bb0>"
      ]
     },
     "execution_count": 14,
     "metadata": {},
     "output_type": "execute_result"
    },
    {
     "data": {
      "image/png": "[encoded data removed]",
      "text/plain": [
       "<Figure size 432x288 with 1 Axes>"
      ]
     },
     "metadata": {},
     "output_type": "display_data"
    }
   ],
   "source": [
    "cost_plot = sns.distplot(clean_cost.Cost, bins=1000)\n",
    "cost_plot"
   ]
  },
  {
   "cell_type": "markdown",
   "metadata": {},
   "source": [
    "The data still seem very skewed. However, with a lack of knowledge of the academic publishing field, at this point I'm not sure if that means it is dirty or not. Either way, removing the remaining outliers might still be helpful to understand the rest of the data. My instinct tells me there is a missing decimal place resulting a wrongly large number for the remaining two largest cost figures."
   ]
  },
  {
   "cell_type": "code",
   "execution_count": 15,
   "metadata": {},
   "outputs": [
    {
     "data": {
      "text/html": [
       "<div>\n",
       "<style scoped>\n",
       "    .dataframe tbody tr th:only-of-type {\n",
       "        vertical-align: middle;\n",
       "    }\n",
       "\n",
       "    .dataframe tbody tr th {\n",
       "        vertical-align: top;\n",
       "    }\n",
       "\n",
       "    .dataframe thead th {\n",
       "        text-align: right;\n",
       "    }\n",
       "</style>\n",
       "<table border=\"1\" class=\"dataframe\">\n",
       "  <thead>\n",
       "    <tr style=\"text-align: right;\">\n",
       "      <th></th>\n",
       "      <th>PMID/PMCID</th>\n",
       "      <th>Publisher</th>\n",
       "      <th>Journal title</th>\n",
       "      <th>Article title</th>\n",
       "      <th>Cost</th>\n",
       "    </tr>\n",
       "  </thead>\n",
       "  <tbody>\n",
       "    <tr>\n",
       "      <th>1987</th>\n",
       "      <td>PMC3664409\\n\\n</td>\n",
       "      <td>Wiley</td>\n",
       "      <td>Movement Disorders</td>\n",
       "      <td>Limb amputations in fixed dystonia: a form of ...</td>\n",
       "      <td>201024</td>\n",
       "    </tr>\n",
       "    <tr>\n",
       "      <th>1470</th>\n",
       "      <td>3547931</td>\n",
       "      <td>Public Library of Science</td>\n",
       "      <td>PLOS ONE</td>\n",
       "      <td>Reducing stock-outs of life saving Malaria Com...</td>\n",
       "      <td>192645</td>\n",
       "    </tr>\n",
       "    <tr>\n",
       "      <th>986</th>\n",
       "      <td>NaN</td>\n",
       "      <td>MacMillan</td>\n",
       "      <td>nan</td>\n",
       "      <td>Fungal Disease in Britain and the United State...</td>\n",
       "      <td>13200</td>\n",
       "    </tr>\n",
       "    <tr>\n",
       "      <th>1619</th>\n",
       "      <td>543219</td>\n",
       "      <td>public.service.co.uk</td>\n",
       "      <td>Public Service Review</td>\n",
       "      <td>Laboratory Science in Tropical Medicine</td>\n",
       "      <td>6000</td>\n",
       "    </tr>\n",
       "    <tr>\n",
       "      <th>800</th>\n",
       "      <td>PMID: 23041239 /PMCID: PMC3490334</td>\n",
       "      <td>Elsevier</td>\n",
       "      <td>The Lancet Neurology</td>\n",
       "      <td>Genetic risk factors for ischaemic stroke and ...</td>\n",
       "      <td>5760</td>\n",
       "    </tr>\n",
       "  </tbody>\n",
       "</table>\n",
       "</div>"
      ],
      "text/plain": [
       "                             PMID/PMCID                  Publisher  \\\n",
       "1987                     PMC3664409\\n\\n                      Wiley   \n",
       "1470                            3547931  Public Library of Science   \n",
       "986                                 NaN                  MacMillan   \n",
       "1619                             543219       public.service.co.uk   \n",
       "800   PMID: 23041239 /PMCID: PMC3490334                   Elsevier   \n",
       "\n",
       "              Journal title  \\\n",
       "1987     Movement Disorders   \n",
       "1470               PLOS ONE   \n",
       "986                     nan   \n",
       "1619  Public Service Review   \n",
       "800    The Lancet Neurology   \n",
       "\n",
       "                                          Article title    Cost  \n",
       "1987  Limb amputations in fixed dystonia: a form of ...  201024  \n",
       "1470  Reducing stock-outs of life saving Malaria Com...  192645  \n",
       "986   Fungal Disease in Britain and the United State...   13200  \n",
       "1619            Laboratory Science in Tropical Medicine    6000  \n",
       "800   Genetic risk factors for ischaemic stroke and ...    5760  "
      ]
     },
     "execution_count": 15,
     "metadata": {},
     "output_type": "execute_result"
    }
   ],
   "source": [
    "clean_cost.head()"
   ]
  },
  {
   "cell_type": "code",
   "execution_count": 16,
   "metadata": {},
   "outputs": [
    {
     "data": {
      "text/html": [
       "<div>\n",
       "<style scoped>\n",
       "    .dataframe tbody tr th:only-of-type {\n",
       "        vertical-align: middle;\n",
       "    }\n",
       "\n",
       "    .dataframe tbody tr th {\n",
       "        vertical-align: top;\n",
       "    }\n",
       "\n",
       "    .dataframe thead th {\n",
       "        text-align: right;\n",
       "    }\n",
       "</style>\n",
       "<table border=\"1\" class=\"dataframe\">\n",
       "  <thead>\n",
       "    <tr style=\"text-align: right;\">\n",
       "      <th></th>\n",
       "      <th>PMID/PMCID</th>\n",
       "      <th>Publisher</th>\n",
       "      <th>Journal title</th>\n",
       "      <th>Article title</th>\n",
       "      <th>Cost</th>\n",
       "    </tr>\n",
       "  </thead>\n",
       "  <tbody>\n",
       "    <tr>\n",
       "      <th>1619</th>\n",
       "      <td>543219</td>\n",
       "      <td>public.service.co.uk</td>\n",
       "      <td>Public Service Review</td>\n",
       "      <td>Laboratory Science in Tropical Medicine</td>\n",
       "      <td>6000</td>\n",
       "    </tr>\n",
       "    <tr>\n",
       "      <th>800</th>\n",
       "      <td>PMID: 23041239 /PMCID: PMC3490334</td>\n",
       "      <td>Elsevier</td>\n",
       "      <td>The Lancet Neurology</td>\n",
       "      <td>Genetic risk factors for ischaemic stroke and ...</td>\n",
       "      <td>5760</td>\n",
       "    </tr>\n",
       "    <tr>\n",
       "      <th>648</th>\n",
       "      <td>NaN</td>\n",
       "      <td>Elsevier</td>\n",
       "      <td>Lancet</td>\n",
       "      <td>Global trends in antiretroviral resistance in ...</td>\n",
       "      <td>4800</td>\n",
       "    </tr>\n",
       "    <tr>\n",
       "      <th>798</th>\n",
       "      <td>PMCID:\\n    PMC3627205\\n</td>\n",
       "      <td>Elsevier</td>\n",
       "      <td>The Lancet</td>\n",
       "      <td>Effects of unconditional and conditional cash ...</td>\n",
       "      <td>4800</td>\n",
       "    </tr>\n",
       "    <tr>\n",
       "      <th>552</th>\n",
       "      <td>23541370 PMC3744751</td>\n",
       "      <td>Elsevier</td>\n",
       "      <td>Elsevier</td>\n",
       "      <td>Effects of relative weight gain and linear gro...</td>\n",
       "      <td>4800</td>\n",
       "    </tr>\n",
       "  </tbody>\n",
       "</table>\n",
       "</div>"
      ],
      "text/plain": [
       "                             PMID/PMCID             Publisher  \\\n",
       "1619                             543219  public.service.co.uk   \n",
       "800   PMID: 23041239 /PMCID: PMC3490334              Elsevier   \n",
       "648                                 NaN              Elsevier   \n",
       "798            PMCID:\\n    PMC3627205\\n              Elsevier   \n",
       "552                 23541370 PMC3744751              Elsevier   \n",
       "\n",
       "              Journal title  \\\n",
       "1619  Public Service Review   \n",
       "800    The Lancet Neurology   \n",
       "648                  Lancet   \n",
       "798              The Lancet   \n",
       "552                Elsevier   \n",
       "\n",
       "                                          Article title  Cost  \n",
       "1619            Laboratory Science in Tropical Medicine  6000  \n",
       "800   Genetic risk factors for ischaemic stroke and ...  5760  \n",
       "648   Global trends in antiretroviral resistance in ...  4800  \n",
       "798   Effects of unconditional and conditional cash ...  4800  \n",
       "552   Effects of relative weight gain and linear gro...  4800  "
      ]
     },
     "execution_count": 16,
     "metadata": {},
     "output_type": "execute_result"
    }
   ],
   "source": [
    "##drop the 3 large outliers\n",
    "clean_cost = clean_cost[clean_cost.Cost < 10000]\n",
    "##drop zero value\n",
    "clean_cost = clean_cost[clean_cost.Cost > 0]\n",
    "clean_cost.head()"
   ]
  },
  {
   "cell_type": "code",
   "execution_count": 17,
   "metadata": {},
   "outputs": [
    {
     "data": {
      "text/html": [
       "<div>\n",
       "<style scoped>\n",
       "    .dataframe tbody tr th:only-of-type {\n",
       "        vertical-align: middle;\n",
       "    }\n",
       "\n",
       "    .dataframe tbody tr th {\n",
       "        vertical-align: top;\n",
       "    }\n",
       "\n",
       "    .dataframe thead th {\n",
       "        text-align: right;\n",
       "    }\n",
       "</style>\n",
       "<table border=\"1\" class=\"dataframe\">\n",
       "  <thead>\n",
       "    <tr style=\"text-align: right;\">\n",
       "      <th></th>\n",
       "      <th>PMID/PMCID</th>\n",
       "      <th>Publisher</th>\n",
       "      <th>Journal title</th>\n",
       "      <th>Article title</th>\n",
       "      <th>Cost</th>\n",
       "    </tr>\n",
       "  </thead>\n",
       "  <tbody>\n",
       "    <tr>\n",
       "      <th>975</th>\n",
       "      <td>PMC 3536734</td>\n",
       "      <td>Landes Bioscience</td>\n",
       "      <td>Channels</td>\n",
       "      <td>State-independent intracellular access of quat...</td>\n",
       "      <td>159</td>\n",
       "    </tr>\n",
       "    <tr>\n",
       "      <th>1677</th>\n",
       "      <td>NaN</td>\n",
       "      <td>Sciedu Press</td>\n",
       "      <td>Journal of Biomedical Graphics and Computing</td>\n",
       "      <td>Functional MRI demonstrates pain perception in...</td>\n",
       "      <td>135</td>\n",
       "    </tr>\n",
       "    <tr>\n",
       "      <th>1469</th>\n",
       "      <td>3543450</td>\n",
       "      <td>Public Library of Science</td>\n",
       "      <td>PLOS ONE</td>\n",
       "      <td>How  well are Malaria Maps used to design and ...</td>\n",
       "      <td>122</td>\n",
       "    </tr>\n",
       "    <tr>\n",
       "      <th>100</th>\n",
       "      <td>NaN</td>\n",
       "      <td>American Society for Nutrition</td>\n",
       "      <td>American Society for Nutrition</td>\n",
       "      <td>The association between breastfeeding and HIV ...</td>\n",
       "      <td>45</td>\n",
       "    </tr>\n",
       "    <tr>\n",
       "      <th>243</th>\n",
       "      <td>PMC3716626</td>\n",
       "      <td>BioMed Central Ltd</td>\n",
       "      <td>Veterinary Research</td>\n",
       "      <td>Understanding foot-and-mouth disease virus tra...</td>\n",
       "      <td>9</td>\n",
       "    </tr>\n",
       "  </tbody>\n",
       "</table>\n",
       "</div>"
      ],
      "text/plain": [
       "       PMID/PMCID                       Publisher  \\\n",
       "975   PMC 3536734               Landes Bioscience   \n",
       "1677          NaN                    Sciedu Press   \n",
       "1469      3543450       Public Library of Science   \n",
       "100           NaN  American Society for Nutrition   \n",
       "243    PMC3716626              BioMed Central Ltd   \n",
       "\n",
       "                                     Journal title  \\\n",
       "975                                       Channels   \n",
       "1677  Journal of Biomedical Graphics and Computing   \n",
       "1469                                      PLOS ONE   \n",
       "100                 American Society for Nutrition   \n",
       "243                            Veterinary Research   \n",
       "\n",
       "                                          Article title  Cost  \n",
       "975   State-independent intracellular access of quat...   159  \n",
       "1677  Functional MRI demonstrates pain perception in...   135  \n",
       "1469  How  well are Malaria Maps used to design and ...   122  \n",
       "100   The association between breastfeeding and HIV ...    45  \n",
       "243   Understanding foot-and-mouth disease virus tra...     9  "
      ]
     },
     "execution_count": 17,
     "metadata": {},
     "output_type": "execute_result"
    }
   ],
   "source": [
    "clean_cost.tail()"
   ]
  },
  {
   "cell_type": "code",
   "execution_count": 18,
   "metadata": {},
   "outputs": [
    {
     "data": {
      "image/png": "[encoded data removed]",
      "text/plain": [
       "<Figure size 432x288 with 1 Axes>"
      ]
     },
     "metadata": {},
     "output_type": "display_data"
    }
   ],
   "source": [
    "##distribution plot of clean data\n",
    "clean_plot = sns.distplot(clean_cost.Cost)"
   ]
  },
  {
   "cell_type": "code",
   "execution_count": 19,
   "metadata": {},
   "outputs": [
    {
     "data": {
      "text/plain": [
       "1822.5746628131021"
      ]
     },
     "execution_count": 19,
     "metadata": {},
     "output_type": "execute_result"
    }
   ],
   "source": [
    "##Total cost mean\n",
    "clean_cost.Cost.mean()"
   ]
  },
  {
   "cell_type": "code",
   "execution_count": 20,
   "metadata": {},
   "outputs": [
    {
     "data": {
      "text/plain": [
       "1851.5"
      ]
     },
     "execution_count": 20,
     "metadata": {},
     "output_type": "execute_result"
    }
   ],
   "source": [
    "##Total cost median\n",
    "clean_cost.Cost.median()"
   ]
  },
  {
   "cell_type": "code",
   "execution_count": 21,
   "metadata": {},
   "outputs": [
    {
     "data": {
      "text/plain": [
       "766.8697284721012"
      ]
     },
     "execution_count": 21,
     "metadata": {},
     "output_type": "execute_result"
    }
   ],
   "source": [
    "##total cost standard dev\n",
    "clean_cost.Cost.std()"
   ]
  },
  {
   "cell_type": "markdown",
   "metadata": {},
   "source": [
    "For all of our cost values, our mean and median are similar at 1822 and 1851, but we have a very large standard deviation of 766. \n",
    "Next we'll group by journal."
   ]
  },
  {
   "cell_type": "code",
   "execution_count": 41,
   "metadata": {},
   "outputs": [
    {
     "data": {
      "text/html": [
       "<div>\n",
       "<style scoped>\n",
       "    .dataframe tbody tr th:only-of-type {\n",
       "        vertical-align: middle;\n",
       "    }\n",
       "\n",
       "    .dataframe tbody tr th {\n",
       "        vertical-align: top;\n",
       "    }\n",
       "\n",
       "    .dataframe thead th {\n",
       "        text-align: right;\n",
       "    }\n",
       "</style>\n",
       "<table border=\"1\" class=\"dataframe\">\n",
       "  <thead>\n",
       "    <tr style=\"text-align: right;\">\n",
       "      <th></th>\n",
       "      <th>Journal title</th>\n",
       "      <th>Cost</th>\n",
       "    </tr>\n",
       "  </thead>\n",
       "  <tbody>\n",
       "    <tr>\n",
       "      <th>839</th>\n",
       "      <td>Public Service Review</td>\n",
       "      <td>6000.000000</td>\n",
       "    </tr>\n",
       "    <tr>\n",
       "      <th>922</th>\n",
       "      <td>The Lancet Neurology</td>\n",
       "      <td>5040.000000</td>\n",
       "    </tr>\n",
       "    <tr>\n",
       "      <th>642</th>\n",
       "      <td>Lancet</td>\n",
       "      <td>4800.000000</td>\n",
       "    </tr>\n",
       "    <tr>\n",
       "      <th>921</th>\n",
       "      <td>The Lancet</td>\n",
       "      <td>4558.000000</td>\n",
       "    </tr>\n",
       "    <tr>\n",
       "      <th>206</th>\n",
       "      <td>Cell Host &amp; Microbe</td>\n",
       "      <td>4226.000000</td>\n",
       "    </tr>\n",
       "    <tr>\n",
       "      <th>258</th>\n",
       "      <td>Curr Biol.</td>\n",
       "      <td>4151.000000</td>\n",
       "    </tr>\n",
       "    <tr>\n",
       "      <th>208</th>\n",
       "      <td>Cell Journal</td>\n",
       "      <td>4041.000000</td>\n",
       "    </tr>\n",
       "    <tr>\n",
       "      <th>434</th>\n",
       "      <td>Immunity</td>\n",
       "      <td>3934.000000</td>\n",
       "    </tr>\n",
       "    <tr>\n",
       "      <th>681</th>\n",
       "      <td>Molecular Cell</td>\n",
       "      <td>3925.333333</td>\n",
       "    </tr>\n",
       "    <tr>\n",
       "      <th>209</th>\n",
       "      <td>Cell Metabolism</td>\n",
       "      <td>3923.666667</td>\n",
       "    </tr>\n",
       "    <tr>\n",
       "      <th>857</th>\n",
       "      <td>STRUCTURE</td>\n",
       "      <td>3895.000000</td>\n",
       "    </tr>\n",
       "    <tr>\n",
       "      <th>210</th>\n",
       "      <td>Cell Press - Cell Reports</td>\n",
       "      <td>3884.000000</td>\n",
       "    </tr>\n",
       "    <tr>\n",
       "      <th>892</th>\n",
       "      <td>Structure</td>\n",
       "      <td>3879.000000</td>\n",
       "    </tr>\n",
       "    <tr>\n",
       "      <th>207</th>\n",
       "      <td>Cell Host and Microbe</td>\n",
       "      <td>3838.000000</td>\n",
       "    </tr>\n",
       "    <tr>\n",
       "      <th>192</th>\n",
       "      <td>CURRENT BIOLOGY</td>\n",
       "      <td>3798.000000</td>\n",
       "    </tr>\n",
       "    <tr>\n",
       "      <th>72</th>\n",
       "      <td>Antimicrobial Agfents and Chemotherapy</td>\n",
       "      <td>3750.000000</td>\n",
       "    </tr>\n",
       "    <tr>\n",
       "      <th>644</th>\n",
       "      <td>Lancet Global Health</td>\n",
       "      <td>3678.000000</td>\n",
       "    </tr>\n",
       "    <tr>\n",
       "      <th>211</th>\n",
       "      <td>Cell Reports</td>\n",
       "      <td>3643.777778</td>\n",
       "    </tr>\n",
       "    <tr>\n",
       "      <th>268</th>\n",
       "      <td>DEVELOPMENT CELL</td>\n",
       "      <td>3630.000000</td>\n",
       "    </tr>\n",
       "    <tr>\n",
       "      <th>500</th>\n",
       "      <td>Journal od Clinical Endocrinology</td>\n",
       "      <td>3602.000000</td>\n",
       "    </tr>\n",
       "  </tbody>\n",
       "</table>\n",
       "</div>"
      ],
      "text/plain": [
       "                              Journal title         Cost\n",
       "839                   Public Service Review  6000.000000\n",
       "922                    The Lancet Neurology  5040.000000\n",
       "642                                  Lancet  4800.000000\n",
       "921                              The Lancet  4558.000000\n",
       "206                     Cell Host & Microbe  4226.000000\n",
       "258                              Curr Biol.  4151.000000\n",
       "208                            Cell Journal  4041.000000\n",
       "434                                Immunity  3934.000000\n",
       "681                          Molecular Cell  3925.333333\n",
       "209                         Cell Metabolism  3923.666667\n",
       "857                               STRUCTURE  3895.000000\n",
       "210               Cell Press - Cell Reports  3884.000000\n",
       "892                               Structure  3879.000000\n",
       "207                   Cell Host and Microbe  3838.000000\n",
       "192                         CURRENT BIOLOGY  3798.000000\n",
       "72   Antimicrobial Agfents and Chemotherapy  3750.000000\n",
       "644                    Lancet Global Health  3678.000000\n",
       "211                            Cell Reports  3643.777778\n",
       "268                        DEVELOPMENT CELL  3630.000000\n",
       "500       Journal od Clinical Endocrinology  3602.000000"
      ]
     },
     "execution_count": 41,
     "metadata": {},
     "output_type": "execute_result"
    }
   ],
   "source": [
    "##group by journal title and find mean cost\n",
    "grouped = clean_cost.groupby([\"Journal title\"])['Cost'].mean().reset_index()\n",
    "grouped.sort_values(by=['Cost'], ascending=False, inplace=True)\n",
    "grouped.head(20)"
   ]
  },
  {
   "cell_type": "markdown",
   "metadata": {},
   "source": [
    "Furthermore, I could better consolidate some of the one-off journal titles, and perform further statistics on each group. But for the sake of this assignment I am going to move onto the next chapter."
   ]
  },
  {
   "cell_type": "code",
   "execution_count": null,
   "metadata": {},
   "outputs": [],
   "source": []
  }
 ],
 "metadata": {
  "kernelspec": {
   "display_name": "Python 3",
   "language": "python",
   "name": "python3"
  },
  "language_info": {
   "codemirror_mode": {
    "name": "ipython",
    "version": 3
   },
   "file_extension": ".py",
   "mimetype": "text/x-python",
   "name": "python",
   "nbconvert_exporter": "python",
   "pygments_lexer": "ipython3",
   "version": "3.7.3"
  }
 },
 "nbformat": 4,
 "nbformat_minor": 2
}
