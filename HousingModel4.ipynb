{
 "cells": [
  {
   "cell_type": "code",
   "execution_count": 1,
   "metadata": {},
   "outputs": [],
   "source": [
    "import numpy as np\n",
    "import pandas as pd\n",
    "from sklearn import linear_model\n",
    "import matplotlib.pyplot as plt\n",
    "import seaborn as sns\n",
    "from sqlalchemy import create_engine"
   ]
  },
  {
   "cell_type": "code",
   "execution_count": 2,
   "metadata": {},
   "outputs": [],
   "source": [
    "import warnings\n",
    "warnings.filterwarnings('ignore')\n",
    "\n",
    "postgres_user = 'dsbc_student'\n",
    "postgres_pw = '7*.8G9QH21'\n",
    "postgres_host = '142.93.121.174'\n",
    "postgres_port = '5432'\n",
    "postgres_db = 'houseprices'"
   ]
  },
  {
   "cell_type": "code",
   "execution_count": 3,
   "metadata": {},
   "outputs": [],
   "source": [
    "#pull the data\n",
    "engine = create_engine('postgresql://{}:{}@{}:{}/{}'.format(\n",
    "    postgres_user, postgres_pw, postgres_host, postgres_port, postgres_db))\n",
    "housing_df = pd.read_sql_query('select * from houseprices',con=engine)\n",
    "\n",
    "# no need for an open connection, as we're only doing a single query\n",
    "engine.dispose()"
   ]
  },
  {
   "cell_type": "code",
   "execution_count": 4,
   "metadata": {},
   "outputs": [
    {
     "data": {
      "text/html": [
       "<div>\n",
       "<style scoped>\n",
       "    .dataframe tbody tr th:only-of-type {\n",
       "        vertical-align: middle;\n",
       "    }\n",
       "\n",
       "    .dataframe tbody tr th {\n",
       "        vertical-align: top;\n",
       "    }\n",
       "\n",
       "    .dataframe thead th {\n",
       "        text-align: right;\n",
       "    }\n",
       "</style>\n",
       "<table border=\"1\" class=\"dataframe\">\n",
       "  <thead>\n",
       "    <tr style=\"text-align: right;\">\n",
       "      <th></th>\n",
       "      <th>id</th>\n",
       "      <th>mssubclass</th>\n",
       "      <th>mszoning</th>\n",
       "      <th>lotfrontage</th>\n",
       "      <th>lotarea</th>\n",
       "      <th>street</th>\n",
       "      <th>alley</th>\n",
       "      <th>lotshape</th>\n",
       "      <th>landcontour</th>\n",
       "      <th>utilities</th>\n",
       "      <th>...</th>\n",
       "      <th>poolarea</th>\n",
       "      <th>poolqc</th>\n",
       "      <th>fence</th>\n",
       "      <th>miscfeature</th>\n",
       "      <th>miscval</th>\n",
       "      <th>mosold</th>\n",
       "      <th>yrsold</th>\n",
       "      <th>saletype</th>\n",
       "      <th>salecondition</th>\n",
       "      <th>saleprice</th>\n",
       "    </tr>\n",
       "  </thead>\n",
       "  <tbody>\n",
       "    <tr>\n",
       "      <th>0</th>\n",
       "      <td>1</td>\n",
       "      <td>60</td>\n",
       "      <td>RL</td>\n",
       "      <td>65.0</td>\n",
       "      <td>8450</td>\n",
       "      <td>Pave</td>\n",
       "      <td>None</td>\n",
       "      <td>Reg</td>\n",
       "      <td>Lvl</td>\n",
       "      <td>AllPub</td>\n",
       "      <td>...</td>\n",
       "      <td>0</td>\n",
       "      <td>None</td>\n",
       "      <td>None</td>\n",
       "      <td>None</td>\n",
       "      <td>0</td>\n",
       "      <td>2</td>\n",
       "      <td>2008</td>\n",
       "      <td>WD</td>\n",
       "      <td>Normal</td>\n",
       "      <td>208500</td>\n",
       "    </tr>\n",
       "    <tr>\n",
       "      <th>1</th>\n",
       "      <td>2</td>\n",
       "      <td>20</td>\n",
       "      <td>RL</td>\n",
       "      <td>80.0</td>\n",
       "      <td>9600</td>\n",
       "      <td>Pave</td>\n",
       "      <td>None</td>\n",
       "      <td>Reg</td>\n",
       "      <td>Lvl</td>\n",
       "      <td>AllPub</td>\n",
       "      <td>...</td>\n",
       "      <td>0</td>\n",
       "      <td>None</td>\n",
       "      <td>None</td>\n",
       "      <td>None</td>\n",
       "      <td>0</td>\n",
       "      <td>5</td>\n",
       "      <td>2007</td>\n",
       "      <td>WD</td>\n",
       "      <td>Normal</td>\n",
       "      <td>181500</td>\n",
       "    </tr>\n",
       "    <tr>\n",
       "      <th>2</th>\n",
       "      <td>3</td>\n",
       "      <td>60</td>\n",
       "      <td>RL</td>\n",
       "      <td>68.0</td>\n",
       "      <td>11250</td>\n",
       "      <td>Pave</td>\n",
       "      <td>None</td>\n",
       "      <td>IR1</td>\n",
       "      <td>Lvl</td>\n",
       "      <td>AllPub</td>\n",
       "      <td>...</td>\n",
       "      <td>0</td>\n",
       "      <td>None</td>\n",
       "      <td>None</td>\n",
       "      <td>None</td>\n",
       "      <td>0</td>\n",
       "      <td>9</td>\n",
       "      <td>2008</td>\n",
       "      <td>WD</td>\n",
       "      <td>Normal</td>\n",
       "      <td>223500</td>\n",
       "    </tr>\n",
       "    <tr>\n",
       "      <th>3</th>\n",
       "      <td>4</td>\n",
       "      <td>70</td>\n",
       "      <td>RL</td>\n",
       "      <td>60.0</td>\n",
       "      <td>9550</td>\n",
       "      <td>Pave</td>\n",
       "      <td>None</td>\n",
       "      <td>IR1</td>\n",
       "      <td>Lvl</td>\n",
       "      <td>AllPub</td>\n",
       "      <td>...</td>\n",
       "      <td>0</td>\n",
       "      <td>None</td>\n",
       "      <td>None</td>\n",
       "      <td>None</td>\n",
       "      <td>0</td>\n",
       "      <td>2</td>\n",
       "      <td>2006</td>\n",
       "      <td>WD</td>\n",
       "      <td>Abnorml</td>\n",
       "      <td>140000</td>\n",
       "    </tr>\n",
       "    <tr>\n",
       "      <th>4</th>\n",
       "      <td>5</td>\n",
       "      <td>60</td>\n",
       "      <td>RL</td>\n",
       "      <td>84.0</td>\n",
       "      <td>14260</td>\n",
       "      <td>Pave</td>\n",
       "      <td>None</td>\n",
       "      <td>IR1</td>\n",
       "      <td>Lvl</td>\n",
       "      <td>AllPub</td>\n",
       "      <td>...</td>\n",
       "      <td>0</td>\n",
       "      <td>None</td>\n",
       "      <td>None</td>\n",
       "      <td>None</td>\n",
       "      <td>0</td>\n",
       "      <td>12</td>\n",
       "      <td>2008</td>\n",
       "      <td>WD</td>\n",
       "      <td>Normal</td>\n",
       "      <td>250000</td>\n",
       "    </tr>\n",
       "  </tbody>\n",
       "</table>\n",
       "<p>5 rows × 81 columns</p>\n",
       "</div>"
      ],
      "text/plain": [
       "   id  mssubclass mszoning  lotfrontage  lotarea street alley lotshape  \\\n",
       "0   1          60       RL         65.0     8450   Pave  None      Reg   \n",
       "1   2          20       RL         80.0     9600   Pave  None      Reg   \n",
       "2   3          60       RL         68.0    11250   Pave  None      IR1   \n",
       "3   4          70       RL         60.0     9550   Pave  None      IR1   \n",
       "4   5          60       RL         84.0    14260   Pave  None      IR1   \n",
       "\n",
       "  landcontour utilities  ... poolarea poolqc fence miscfeature miscval mosold  \\\n",
       "0         Lvl    AllPub  ...        0   None  None        None       0      2   \n",
       "1         Lvl    AllPub  ...        0   None  None        None       0      5   \n",
       "2         Lvl    AllPub  ...        0   None  None        None       0      9   \n",
       "3         Lvl    AllPub  ...        0   None  None        None       0      2   \n",
       "4         Lvl    AllPub  ...        0   None  None        None       0     12   \n",
       "\n",
       "  yrsold  saletype  salecondition  saleprice  \n",
       "0   2008        WD         Normal     208500  \n",
       "1   2007        WD         Normal     181500  \n",
       "2   2008        WD         Normal     223500  \n",
       "3   2006        WD        Abnorml     140000  \n",
       "4   2008        WD         Normal     250000  \n",
       "\n",
       "[5 rows x 81 columns]"
      ]
     },
     "execution_count": 4,
     "metadata": {},
     "output_type": "execute_result"
    }
   ],
   "source": [
    "housing_df.head()"
   ]
  },
  {
   "cell_type": "markdown",
   "metadata": {},
   "source": [
    "#### Data Cleaning"
   ]
  },
  {
   "cell_type": "code",
   "execution_count": 5,
   "metadata": {},
   "outputs": [
    {
     "name": "stdout",
     "output_type": "stream",
     "text": [
      "<class 'pandas.core.frame.DataFrame'>\n",
      "RangeIndex: 1460 entries, 0 to 1459\n",
      "Data columns (total 81 columns):\n",
      "id               1460 non-null int64\n",
      "mssubclass       1460 non-null int64\n",
      "mszoning         1460 non-null object\n",
      "lotfrontage      1201 non-null float64\n",
      "lotarea          1460 non-null int64\n",
      "street           1460 non-null object\n",
      "alley            91 non-null object\n",
      "lotshape         1460 non-null object\n",
      "landcontour      1460 non-null object\n",
      "utilities        1460 non-null object\n",
      "lotconfig        1460 non-null object\n",
      "landslope        1460 non-null object\n",
      "neighborhood     1460 non-null object\n",
      "condition1       1460 non-null object\n",
      "condition2       1460 non-null object\n",
      "bldgtype         1460 non-null object\n",
      "housestyle       1460 non-null object\n",
      "overallqual      1460 non-null int64\n",
      "overallcond      1460 non-null int64\n",
      "yearbuilt        1460 non-null int64\n",
      "yearremodadd     1460 non-null int64\n",
      "roofstyle        1460 non-null object\n",
      "roofmatl         1460 non-null object\n",
      "exterior1st      1460 non-null object\n",
      "exterior2nd      1460 non-null object\n",
      "masvnrtype       1452 non-null object\n",
      "masvnrarea       1452 non-null float64\n",
      "exterqual        1460 non-null object\n",
      "extercond        1460 non-null object\n",
      "foundation       1460 non-null object\n",
      "bsmtqual         1423 non-null object\n",
      "bsmtcond         1423 non-null object\n",
      "bsmtexposure     1422 non-null object\n",
      "bsmtfintype1     1423 non-null object\n",
      "bsmtfinsf1       1460 non-null int64\n",
      "bsmtfintype2     1422 non-null object\n",
      "bsmtfinsf2       1460 non-null int64\n",
      "bsmtunfsf        1460 non-null int64\n",
      "totalbsmtsf      1460 non-null int64\n",
      "heating          1460 non-null object\n",
      "heatingqc        1460 non-null object\n",
      "centralair       1460 non-null object\n",
      "electrical       1459 non-null object\n",
      "firstflrsf       1460 non-null int64\n",
      "secondflrsf      1460 non-null int64\n",
      "lowqualfinsf     1460 non-null int64\n",
      "grlivarea        1460 non-null int64\n",
      "bsmtfullbath     1460 non-null int64\n",
      "bsmthalfbath     1460 non-null int64\n",
      "fullbath         1460 non-null int64\n",
      "halfbath         1460 non-null int64\n",
      "bedroomabvgr     1460 non-null int64\n",
      "kitchenabvgr     1460 non-null int64\n",
      "kitchenqual      1460 non-null object\n",
      "totrmsabvgrd     1460 non-null int64\n",
      "functional       1460 non-null object\n",
      "fireplaces       1460 non-null int64\n",
      "fireplacequ      770 non-null object\n",
      "garagetype       1379 non-null object\n",
      "garageyrblt      1379 non-null float64\n",
      "garagefinish     1379 non-null object\n",
      "garagecars       1460 non-null int64\n",
      "garagearea       1460 non-null int64\n",
      "garagequal       1379 non-null object\n",
      "garagecond       1379 non-null object\n",
      "paveddrive       1460 non-null object\n",
      "wooddecksf       1460 non-null int64\n",
      "openporchsf      1460 non-null int64\n",
      "enclosedporch    1460 non-null int64\n",
      "threessnporch    1460 non-null int64\n",
      "screenporch      1460 non-null int64\n",
      "poolarea         1460 non-null int64\n",
      "poolqc           7 non-null object\n",
      "fence            281 non-null object\n",
      "miscfeature      54 non-null object\n",
      "miscval          1460 non-null int64\n",
      "mosold           1460 non-null int64\n",
      "yrsold           1460 non-null int64\n",
      "saletype         1460 non-null object\n",
      "salecondition    1460 non-null object\n",
      "saleprice        1460 non-null int64\n",
      "dtypes: float64(3), int64(35), object(43)\n",
      "memory usage: 678.7+ KB\n"
     ]
    }
   ],
   "source": [
    "housing_df.info()"
   ]
  },
  {
   "cell_type": "code",
   "execution_count": 6,
   "metadata": {},
   "outputs": [
    {
     "data": {
      "text/plain": [
       "id               0.000000\n",
       "mssubclass       0.000000\n",
       "mszoning         0.000000\n",
       "lotfrontage      0.177397\n",
       "lotarea          0.000000\n",
       "street           0.000000\n",
       "alley            0.937671\n",
       "lotshape         0.000000\n",
       "landcontour      0.000000\n",
       "utilities        0.000000\n",
       "lotconfig        0.000000\n",
       "landslope        0.000000\n",
       "neighborhood     0.000000\n",
       "condition1       0.000000\n",
       "condition2       0.000000\n",
       "bldgtype         0.000000\n",
       "housestyle       0.000000\n",
       "overallqual      0.000000\n",
       "overallcond      0.000000\n",
       "yearbuilt        0.000000\n",
       "yearremodadd     0.000000\n",
       "roofstyle        0.000000\n",
       "roofmatl         0.000000\n",
       "exterior1st      0.000000\n",
       "exterior2nd      0.000000\n",
       "masvnrtype       0.005479\n",
       "masvnrarea       0.005479\n",
       "exterqual        0.000000\n",
       "extercond        0.000000\n",
       "foundation       0.000000\n",
       "                   ...   \n",
       "bedroomabvgr     0.000000\n",
       "kitchenabvgr     0.000000\n",
       "kitchenqual      0.000000\n",
       "totrmsabvgrd     0.000000\n",
       "functional       0.000000\n",
       "fireplaces       0.000000\n",
       "fireplacequ      0.472603\n",
       "garagetype       0.055479\n",
       "garageyrblt      0.055479\n",
       "garagefinish     0.055479\n",
       "garagecars       0.000000\n",
       "garagearea       0.000000\n",
       "garagequal       0.055479\n",
       "garagecond       0.055479\n",
       "paveddrive       0.000000\n",
       "wooddecksf       0.000000\n",
       "openporchsf      0.000000\n",
       "enclosedporch    0.000000\n",
       "threessnporch    0.000000\n",
       "screenporch      0.000000\n",
       "poolarea         0.000000\n",
       "poolqc           0.995205\n",
       "fence            0.807534\n",
       "miscfeature      0.963014\n",
       "miscval          0.000000\n",
       "mosold           0.000000\n",
       "yrsold           0.000000\n",
       "saletype         0.000000\n",
       "salecondition    0.000000\n",
       "saleprice        0.000000\n",
       "Length: 81, dtype: float64"
      ]
     },
     "execution_count": 6,
     "metadata": {},
     "output_type": "execute_result"
    }
   ],
   "source": [
    "housing_df.isnull().mean()"
   ]
  },
  {
   "cell_type": "markdown",
   "metadata": {},
   "source": [
    "Right off the bat, there seems to be a few obvious ways to trim this data set. Some columns are highly specific subsets of other categories which can be easily discarded. Another is things like alley type missing more than 90% of values, which surely represents no alley access, so we can turn that column into a boolean -- true or false if there is any alley access. Lastly we can drop ambiguous columns like 'misc. features'."
   ]
  },
  {
   "cell_type": "code",
   "execution_count": 7,
   "metadata": {},
   "outputs": [
    {
     "data": {
      "text/plain": [
       "21    Grvl\n",
       "30    Pave\n",
       "56    Pave\n",
       "79    Grvl\n",
       "87    Pave\n",
       "Name: alley, dtype: object"
      ]
     },
     "execution_count": 7,
     "metadata": {},
     "output_type": "execute_result"
    }
   ],
   "source": [
    "##check non-null alley values\n",
    "housing_df['alley'].loc[housing_df['alley'].isnull()==False].head()"
   ]
  },
  {
   "cell_type": "code",
   "execution_count": 8,
   "metadata": {},
   "outputs": [
    {
     "data": {
      "text/plain": [
       "0    None\n",
       "1    None\n",
       "2    None\n",
       "3    None\n",
       "4    None\n",
       "Name: alley, dtype: object"
      ]
     },
     "execution_count": 8,
     "metadata": {},
     "output_type": "execute_result"
    }
   ],
   "source": [
    "housing_df['alley'].head()"
   ]
  },
  {
   "cell_type": "code",
   "execution_count": 9,
   "metadata": {},
   "outputs": [],
   "source": [
    "##Fill null values with false\n",
    "housing_df['alley'].fillna(value=False, inplace=True)"
   ]
  },
  {
   "cell_type": "code",
   "execution_count": 10,
   "metadata": {},
   "outputs": [
    {
     "data": {
      "text/plain": [
       "0    False\n",
       "1    False\n",
       "2    False\n",
       "3    False\n",
       "4    False\n",
       "Name: alley, dtype: object"
      ]
     },
     "execution_count": 10,
     "metadata": {},
     "output_type": "execute_result"
    }
   ],
   "source": [
    "housing_df['alley'].head()"
   ]
  },
  {
   "cell_type": "code",
   "execution_count": 11,
   "metadata": {},
   "outputs": [],
   "source": [
    "##turn alley column to true or false\n",
    "housing_df.loc[housing_df['alley'] != False, 'alley'] = True"
   ]
  },
  {
   "cell_type": "markdown",
   "metadata": {},
   "source": [
    "Instead of whittling down to the important categories, I think it's smarter to build from the ground up and add obviously important columns first to the features for our model."
   ]
  },
  {
   "cell_type": "code",
   "execution_count": 12,
   "metadata": {},
   "outputs": [],
   "source": [
    "##create new df with more focused features to explore\n",
    "model_features = (housing_df[['saleprice','yrsold','mosold','yearbuilt','yearremodadd','lotarea','neighborhood','alley','overallqual','overallcond',\n",
    "                              'bldgtype','housestyle','totalbsmtsf','grlivarea','fullbath','bedroomabvgr','kitchenqual','functional','garagecars',\n",
    "                             'paveddrive','wooddecksf','poolarea']]).copy()"
   ]
  },
  {
   "cell_type": "code",
   "execution_count": 13,
   "metadata": {},
   "outputs": [
    {
     "data": {
      "text/plain": [
       "saleprice       0.0\n",
       "yrsold          0.0\n",
       "mosold          0.0\n",
       "yearbuilt       0.0\n",
       "yearremodadd    0.0\n",
       "lotarea         0.0\n",
       "neighborhood    0.0\n",
       "alley           0.0\n",
       "overallqual     0.0\n",
       "overallcond     0.0\n",
       "bldgtype        0.0\n",
       "housestyle      0.0\n",
       "totalbsmtsf     0.0\n",
       "grlivarea       0.0\n",
       "fullbath        0.0\n",
       "bedroomabvgr    0.0\n",
       "kitchenqual     0.0\n",
       "functional      0.0\n",
       "garagecars      0.0\n",
       "paveddrive      0.0\n",
       "wooddecksf      0.0\n",
       "poolarea        0.0\n",
       "dtype: float64"
      ]
     },
     "execution_count": 13,
     "metadata": {},
     "output_type": "execute_result"
    }
   ],
   "source": [
    "#show percent null values for each column\n",
    "model_features.isnull().mean()"
   ]
  },
  {
   "cell_type": "markdown",
   "metadata": {},
   "source": [
    "Now we have a more focused dataset without any null values. Time to explore the data.\n",
    "\n",
    "#### Data Exploration\n",
    "\n",
    "We'll focus on saleprice as our target variable."
   ]
  },
  {
   "cell_type": "code",
   "execution_count": 14,
   "metadata": {},
   "outputs": [
    {
     "data": {
      "text/plain": [
       "<matplotlib.axes._subplots.AxesSubplot at 0x11eb6b90>"
      ]
     },
     "execution_count": 14,
     "metadata": {},
     "output_type": "execute_result"
    },
    {
     "data": {
      "image/png": "[encoded data removed]",
      "text/plain": [
       "<Figure size 432x288 with 1 Axes>"
      ]
     },
     "metadata": {
      "needs_background": "light"
     },
     "output_type": "display_data"
    }
   ],
   "source": [
    "#plot saleprice distribution\n",
    "sns.distplot(model_features.saleprice)"
   ]
  },
  {
   "cell_type": "markdown",
   "metadata": {},
   "source": [
    "Our target variable seems to be non-normal and skewed to the right. It's time to turn our categorical variables into binary ones in order to research their correlations to our target."
   ]
  },
  {
   "cell_type": "code",
   "execution_count": 15,
   "metadata": {},
   "outputs": [
    {
     "name": "stdout",
     "output_type": "stream",
     "text": [
      "<class 'pandas.core.frame.DataFrame'>\n",
      "RangeIndex: 1460 entries, 0 to 1459\n",
      "Data columns (total 22 columns):\n",
      "saleprice       1460 non-null int64\n",
      "yrsold          1460 non-null int64\n",
      "mosold          1460 non-null int64\n",
      "yearbuilt       1460 non-null int64\n",
      "yearremodadd    1460 non-null int64\n",
      "lotarea         1460 non-null int64\n",
      "neighborhood    1460 non-null object\n",
      "alley           1460 non-null bool\n",
      "overallqual     1460 non-null int64\n",
      "overallcond     1460 non-null int64\n",
      "bldgtype        1460 non-null object\n",
      "housestyle      1460 non-null object\n",
      "totalbsmtsf     1460 non-null int64\n",
      "grlivarea       1460 non-null int64\n",
      "fullbath        1460 non-null int64\n",
      "bedroomabvgr    1460 non-null int64\n",
      "kitchenqual     1460 non-null object\n",
      "functional      1460 non-null object\n",
      "garagecars      1460 non-null int64\n",
      "paveddrive      1460 non-null object\n",
      "wooddecksf      1460 non-null int64\n",
      "poolarea        1460 non-null int64\n",
      "dtypes: bool(1), int64(15), object(6)\n",
      "memory usage: 206.8+ KB\n"
     ]
    }
   ],
   "source": [
    "model_features.info()"
   ]
  },
  {
   "cell_type": "code",
   "execution_count": 16,
   "metadata": {},
   "outputs": [
    {
     "data": {
      "text/plain": [
       "25"
      ]
     },
     "execution_count": 16,
     "metadata": {},
     "output_type": "execute_result"
    }
   ],
   "source": [
    "##number of unique values in neighborhood\n",
    "model_features.neighborhood.nunique()"
   ]
  },
  {
   "cell_type": "markdown",
   "metadata": {},
   "source": [
    "While neighborhood seems to be an important piece of information, 25 seperate categories is too many for our model."
   ]
  },
  {
   "cell_type": "code",
   "execution_count": 17,
   "metadata": {},
   "outputs": [],
   "source": [
    "# drop neighborhood\n",
    "model_features.drop(columns=['neighborhood'], inplace=True)"
   ]
  },
  {
   "cell_type": "code",
   "execution_count": 18,
   "metadata": {
    "scrolled": true
   },
   "outputs": [
    {
     "name": "stdout",
     "output_type": "stream",
     "text": [
      "<class 'pandas.core.frame.DataFrame'>\n",
      "RangeIndex: 1460 entries, 0 to 1459\n",
      "Data columns (total 21 columns):\n",
      "saleprice       1460 non-null int64\n",
      "yrsold          1460 non-null int64\n",
      "mosold          1460 non-null int64\n",
      "yearbuilt       1460 non-null int64\n",
      "yearremodadd    1460 non-null int64\n",
      "lotarea         1460 non-null int64\n",
      "alley           1460 non-null bool\n",
      "overallqual     1460 non-null int64\n",
      "overallcond     1460 non-null int64\n",
      "bldgtype        1460 non-null object\n",
      "housestyle      1460 non-null object\n",
      "totalbsmtsf     1460 non-null int64\n",
      "grlivarea       1460 non-null int64\n",
      "fullbath        1460 non-null int64\n",
      "bedroomabvgr    1460 non-null int64\n",
      "kitchenqual     1460 non-null object\n",
      "functional      1460 non-null object\n",
      "garagecars      1460 non-null int64\n",
      "paveddrive      1460 non-null object\n",
      "wooddecksf      1460 non-null int64\n",
      "poolarea        1460 non-null int64\n",
      "dtypes: bool(1), int64(15), object(5)\n",
      "memory usage: 201.1+ KB\n"
     ]
    }
   ],
   "source": [
    "model_features.info()"
   ]
  },
  {
   "cell_type": "code",
   "execution_count": 19,
   "metadata": {},
   "outputs": [
    {
     "data": {
      "text/plain": [
       "5"
      ]
     },
     "execution_count": 19,
     "metadata": {},
     "output_type": "execute_result"
    }
   ],
   "source": [
    "model_features.bldgtype.nunique()"
   ]
  },
  {
   "cell_type": "code",
   "execution_count": 20,
   "metadata": {},
   "outputs": [
    {
     "data": {
      "text/plain": [
       "8"
      ]
     },
     "execution_count": 20,
     "metadata": {},
     "output_type": "execute_result"
    }
   ],
   "source": [
    "model_features.housestyle.nunique()"
   ]
  },
  {
   "cell_type": "code",
   "execution_count": 21,
   "metadata": {},
   "outputs": [
    {
     "data": {
      "text/plain": [
       "4"
      ]
     },
     "execution_count": 21,
     "metadata": {},
     "output_type": "execute_result"
    }
   ],
   "source": [
    "model_features.kitchenqual.nunique()"
   ]
  },
  {
   "cell_type": "code",
   "execution_count": 22,
   "metadata": {},
   "outputs": [
    {
     "data": {
      "text/plain": [
       "3"
      ]
     },
     "execution_count": 22,
     "metadata": {},
     "output_type": "execute_result"
    }
   ],
   "source": [
    "model_features.paveddrive.nunique()"
   ]
  },
  {
   "cell_type": "markdown",
   "metadata": {},
   "source": [
    "For our purposes here, I'll drop the categorical variables and work with the numeric."
   ]
  },
  {
   "cell_type": "code",
   "execution_count": 23,
   "metadata": {},
   "outputs": [],
   "source": [
    "##drop categorical columns\n",
    "model_features.drop(columns=['bldgtype','housestyle','kitchenqual','functional','paveddrive'], inplace=True)"
   ]
  },
  {
   "cell_type": "code",
   "execution_count": 24,
   "metadata": {},
   "outputs": [
    {
     "data": {
      "text/html": [
       "<div>\n",
       "<style scoped>\n",
       "    .dataframe tbody tr th:only-of-type {\n",
       "        vertical-align: middle;\n",
       "    }\n",
       "\n",
       "    .dataframe tbody tr th {\n",
       "        vertical-align: top;\n",
       "    }\n",
       "\n",
       "    .dataframe thead th {\n",
       "        text-align: right;\n",
       "    }\n",
       "</style>\n",
       "<table border=\"1\" class=\"dataframe\">\n",
       "  <thead>\n",
       "    <tr style=\"text-align: right;\">\n",
       "      <th></th>\n",
       "      <th>saleprice</th>\n",
       "      <th>yrsold</th>\n",
       "      <th>mosold</th>\n",
       "      <th>yearbuilt</th>\n",
       "      <th>yearremodadd</th>\n",
       "      <th>lotarea</th>\n",
       "      <th>alley</th>\n",
       "      <th>overallqual</th>\n",
       "      <th>overallcond</th>\n",
       "      <th>totalbsmtsf</th>\n",
       "      <th>grlivarea</th>\n",
       "      <th>fullbath</th>\n",
       "      <th>bedroomabvgr</th>\n",
       "      <th>garagecars</th>\n",
       "      <th>wooddecksf</th>\n",
       "      <th>poolarea</th>\n",
       "    </tr>\n",
       "  </thead>\n",
       "  <tbody>\n",
       "    <tr>\n",
       "      <th>0</th>\n",
       "      <td>208500</td>\n",
       "      <td>2008</td>\n",
       "      <td>2</td>\n",
       "      <td>2003</td>\n",
       "      <td>2003</td>\n",
       "      <td>8450</td>\n",
       "      <td>False</td>\n",
       "      <td>7</td>\n",
       "      <td>5</td>\n",
       "      <td>856</td>\n",
       "      <td>1710</td>\n",
       "      <td>2</td>\n",
       "      <td>3</td>\n",
       "      <td>2</td>\n",
       "      <td>0</td>\n",
       "      <td>0</td>\n",
       "    </tr>\n",
       "    <tr>\n",
       "      <th>1</th>\n",
       "      <td>181500</td>\n",
       "      <td>2007</td>\n",
       "      <td>5</td>\n",
       "      <td>1976</td>\n",
       "      <td>1976</td>\n",
       "      <td>9600</td>\n",
       "      <td>False</td>\n",
       "      <td>6</td>\n",
       "      <td>8</td>\n",
       "      <td>1262</td>\n",
       "      <td>1262</td>\n",
       "      <td>2</td>\n",
       "      <td>3</td>\n",
       "      <td>2</td>\n",
       "      <td>298</td>\n",
       "      <td>0</td>\n",
       "    </tr>\n",
       "    <tr>\n",
       "      <th>2</th>\n",
       "      <td>223500</td>\n",
       "      <td>2008</td>\n",
       "      <td>9</td>\n",
       "      <td>2001</td>\n",
       "      <td>2002</td>\n",
       "      <td>11250</td>\n",
       "      <td>False</td>\n",
       "      <td>7</td>\n",
       "      <td>5</td>\n",
       "      <td>920</td>\n",
       "      <td>1786</td>\n",
       "      <td>2</td>\n",
       "      <td>3</td>\n",
       "      <td>2</td>\n",
       "      <td>0</td>\n",
       "      <td>0</td>\n",
       "    </tr>\n",
       "    <tr>\n",
       "      <th>3</th>\n",
       "      <td>140000</td>\n",
       "      <td>2006</td>\n",
       "      <td>2</td>\n",
       "      <td>1915</td>\n",
       "      <td>1970</td>\n",
       "      <td>9550</td>\n",
       "      <td>False</td>\n",
       "      <td>7</td>\n",
       "      <td>5</td>\n",
       "      <td>756</td>\n",
       "      <td>1717</td>\n",
       "      <td>1</td>\n",
       "      <td>3</td>\n",
       "      <td>3</td>\n",
       "      <td>0</td>\n",
       "      <td>0</td>\n",
       "    </tr>\n",
       "    <tr>\n",
       "      <th>4</th>\n",
       "      <td>250000</td>\n",
       "      <td>2008</td>\n",
       "      <td>12</td>\n",
       "      <td>2000</td>\n",
       "      <td>2000</td>\n",
       "      <td>14260</td>\n",
       "      <td>False</td>\n",
       "      <td>8</td>\n",
       "      <td>5</td>\n",
       "      <td>1145</td>\n",
       "      <td>2198</td>\n",
       "      <td>2</td>\n",
       "      <td>4</td>\n",
       "      <td>3</td>\n",
       "      <td>192</td>\n",
       "      <td>0</td>\n",
       "    </tr>\n",
       "  </tbody>\n",
       "</table>\n",
       "</div>"
      ],
      "text/plain": [
       "   saleprice  yrsold  mosold  yearbuilt  yearremodadd  lotarea  alley  \\\n",
       "0     208500    2008       2       2003          2003     8450  False   \n",
       "1     181500    2007       5       1976          1976     9600  False   \n",
       "2     223500    2008       9       2001          2002    11250  False   \n",
       "3     140000    2006       2       1915          1970     9550  False   \n",
       "4     250000    2008      12       2000          2000    14260  False   \n",
       "\n",
       "   overallqual  overallcond  totalbsmtsf  grlivarea  fullbath  bedroomabvgr  \\\n",
       "0            7            5          856       1710         2             3   \n",
       "1            6            8         1262       1262         2             3   \n",
       "2            7            5          920       1786         2             3   \n",
       "3            7            5          756       1717         1             3   \n",
       "4            8            5         1145       2198         2             4   \n",
       "\n",
       "   garagecars  wooddecksf  poolarea  \n",
       "0           2           0         0  \n",
       "1           2         298         0  \n",
       "2           2           0         0  \n",
       "3           3           0         0  \n",
       "4           3         192         0  "
      ]
     },
     "execution_count": 24,
     "metadata": {},
     "output_type": "execute_result"
    }
   ],
   "source": [
    "model_features.head()"
   ]
  },
  {
   "cell_type": "code",
   "execution_count": 25,
   "metadata": {},
   "outputs": [
    {
     "data": {
      "text/html": [
       "<div>\n",
       "<style scoped>\n",
       "    .dataframe tbody tr th:only-of-type {\n",
       "        vertical-align: middle;\n",
       "    }\n",
       "\n",
       "    .dataframe tbody tr th {\n",
       "        vertical-align: top;\n",
       "    }\n",
       "\n",
       "    .dataframe thead th {\n",
       "        text-align: right;\n",
       "    }\n",
       "</style>\n",
       "<table border=\"1\" class=\"dataframe\">\n",
       "  <thead>\n",
       "    <tr style=\"text-align: right;\">\n",
       "      <th></th>\n",
       "      <th>saleprice</th>\n",
       "      <th>yrsold</th>\n",
       "      <th>mosold</th>\n",
       "      <th>yearbuilt</th>\n",
       "      <th>yearremodadd</th>\n",
       "      <th>lotarea</th>\n",
       "      <th>alley</th>\n",
       "      <th>overallqual</th>\n",
       "      <th>overallcond</th>\n",
       "      <th>totalbsmtsf</th>\n",
       "      <th>grlivarea</th>\n",
       "      <th>fullbath</th>\n",
       "      <th>bedroomabvgr</th>\n",
       "      <th>garagecars</th>\n",
       "      <th>wooddecksf</th>\n",
       "      <th>poolarea</th>\n",
       "    </tr>\n",
       "  </thead>\n",
       "  <tbody>\n",
       "    <tr>\n",
       "      <th>saleprice</th>\n",
       "      <td>1.000000</td>\n",
       "      <td>-0.028923</td>\n",
       "      <td>0.046432</td>\n",
       "      <td>0.522897</td>\n",
       "      <td>0.507101</td>\n",
       "      <td>0.263843</td>\n",
       "      <td>-0.123611</td>\n",
       "      <td>0.790982</td>\n",
       "      <td>-0.077856</td>\n",
       "      <td>0.613581</td>\n",
       "      <td>0.708624</td>\n",
       "      <td>0.560664</td>\n",
       "      <td>0.168213</td>\n",
       "      <td>0.640409</td>\n",
       "      <td>0.324413</td>\n",
       "      <td>0.092404</td>\n",
       "    </tr>\n",
       "    <tr>\n",
       "      <th>yrsold</th>\n",
       "      <td>-0.028923</td>\n",
       "      <td>1.000000</td>\n",
       "      <td>-0.145721</td>\n",
       "      <td>-0.013618</td>\n",
       "      <td>0.035743</td>\n",
       "      <td>-0.014261</td>\n",
       "      <td>-0.017571</td>\n",
       "      <td>-0.027347</td>\n",
       "      <td>0.043950</td>\n",
       "      <td>-0.014969</td>\n",
       "      <td>-0.036526</td>\n",
       "      <td>-0.019669</td>\n",
       "      <td>-0.036014</td>\n",
       "      <td>-0.039117</td>\n",
       "      <td>0.022270</td>\n",
       "      <td>-0.059689</td>\n",
       "    </tr>\n",
       "    <tr>\n",
       "      <th>mosold</th>\n",
       "      <td>0.046432</td>\n",
       "      <td>-0.145721</td>\n",
       "      <td>1.000000</td>\n",
       "      <td>0.012398</td>\n",
       "      <td>0.021490</td>\n",
       "      <td>0.001205</td>\n",
       "      <td>-0.018130</td>\n",
       "      <td>0.070815</td>\n",
       "      <td>-0.003511</td>\n",
       "      <td>0.013196</td>\n",
       "      <td>0.050240</td>\n",
       "      <td>0.055872</td>\n",
       "      <td>0.046544</td>\n",
       "      <td>0.040522</td>\n",
       "      <td>0.021011</td>\n",
       "      <td>-0.033737</td>\n",
       "    </tr>\n",
       "    <tr>\n",
       "      <th>yearbuilt</th>\n",
       "      <td>0.522897</td>\n",
       "      <td>-0.013618</td>\n",
       "      <td>0.012398</td>\n",
       "      <td>1.000000</td>\n",
       "      <td>0.592855</td>\n",
       "      <td>0.014228</td>\n",
       "      <td>-0.253115</td>\n",
       "      <td>0.572323</td>\n",
       "      <td>-0.375983</td>\n",
       "      <td>0.391452</td>\n",
       "      <td>0.199010</td>\n",
       "      <td>0.468271</td>\n",
       "      <td>-0.070651</td>\n",
       "      <td>0.537850</td>\n",
       "      <td>0.224880</td>\n",
       "      <td>0.004950</td>\n",
       "    </tr>\n",
       "    <tr>\n",
       "      <th>yearremodadd</th>\n",
       "      <td>0.507101</td>\n",
       "      <td>0.035743</td>\n",
       "      <td>0.021490</td>\n",
       "      <td>0.592855</td>\n",
       "      <td>1.000000</td>\n",
       "      <td>0.013788</td>\n",
       "      <td>-0.034565</td>\n",
       "      <td>0.550684</td>\n",
       "      <td>0.073741</td>\n",
       "      <td>0.291066</td>\n",
       "      <td>0.287389</td>\n",
       "      <td>0.439046</td>\n",
       "      <td>-0.040581</td>\n",
       "      <td>0.420622</td>\n",
       "      <td>0.205726</td>\n",
       "      <td>0.005829</td>\n",
       "    </tr>\n",
       "    <tr>\n",
       "      <th>lotarea</th>\n",
       "      <td>0.263843</td>\n",
       "      <td>-0.014261</td>\n",
       "      <td>0.001205</td>\n",
       "      <td>0.014228</td>\n",
       "      <td>0.013788</td>\n",
       "      <td>1.000000</td>\n",
       "      <td>-0.075624</td>\n",
       "      <td>0.105806</td>\n",
       "      <td>-0.005636</td>\n",
       "      <td>0.260833</td>\n",
       "      <td>0.263116</td>\n",
       "      <td>0.126031</td>\n",
       "      <td>0.119690</td>\n",
       "      <td>0.154871</td>\n",
       "      <td>0.171698</td>\n",
       "      <td>0.077672</td>\n",
       "    </tr>\n",
       "    <tr>\n",
       "      <th>alley</th>\n",
       "      <td>-0.123611</td>\n",
       "      <td>-0.017571</td>\n",
       "      <td>-0.018130</td>\n",
       "      <td>-0.253115</td>\n",
       "      <td>-0.034565</td>\n",
       "      <td>-0.075624</td>\n",
       "      <td>1.000000</td>\n",
       "      <td>-0.067704</td>\n",
       "      <td>0.072953</td>\n",
       "      <td>-0.134872</td>\n",
       "      <td>-0.012589</td>\n",
       "      <td>-0.038178</td>\n",
       "      <td>0.014432</td>\n",
       "      <td>-0.071330</td>\n",
       "      <td>-0.114649</td>\n",
       "      <td>-0.017710</td>\n",
       "    </tr>\n",
       "    <tr>\n",
       "      <th>overallqual</th>\n",
       "      <td>0.790982</td>\n",
       "      <td>-0.027347</td>\n",
       "      <td>0.070815</td>\n",
       "      <td>0.572323</td>\n",
       "      <td>0.550684</td>\n",
       "      <td>0.105806</td>\n",
       "      <td>-0.067704</td>\n",
       "      <td>1.000000</td>\n",
       "      <td>-0.091932</td>\n",
       "      <td>0.537808</td>\n",
       "      <td>0.593007</td>\n",
       "      <td>0.550600</td>\n",
       "      <td>0.101676</td>\n",
       "      <td>0.600671</td>\n",
       "      <td>0.238923</td>\n",
       "      <td>0.065166</td>\n",
       "    </tr>\n",
       "    <tr>\n",
       "      <th>overallcond</th>\n",
       "      <td>-0.077856</td>\n",
       "      <td>0.043950</td>\n",
       "      <td>-0.003511</td>\n",
       "      <td>-0.375983</td>\n",
       "      <td>0.073741</td>\n",
       "      <td>-0.005636</td>\n",
       "      <td>0.072953</td>\n",
       "      <td>-0.091932</td>\n",
       "      <td>1.000000</td>\n",
       "      <td>-0.171098</td>\n",
       "      <td>-0.079686</td>\n",
       "      <td>-0.194149</td>\n",
       "      <td>0.012980</td>\n",
       "      <td>-0.185758</td>\n",
       "      <td>-0.003334</td>\n",
       "      <td>-0.001985</td>\n",
       "    </tr>\n",
       "    <tr>\n",
       "      <th>totalbsmtsf</th>\n",
       "      <td>0.613581</td>\n",
       "      <td>-0.014969</td>\n",
       "      <td>0.013196</td>\n",
       "      <td>0.391452</td>\n",
       "      <td>0.291066</td>\n",
       "      <td>0.260833</td>\n",
       "      <td>-0.134872</td>\n",
       "      <td>0.537808</td>\n",
       "      <td>-0.171098</td>\n",
       "      <td>1.000000</td>\n",
       "      <td>0.454868</td>\n",
       "      <td>0.323722</td>\n",
       "      <td>0.050450</td>\n",
       "      <td>0.434585</td>\n",
       "      <td>0.232019</td>\n",
       "      <td>0.126053</td>\n",
       "    </tr>\n",
       "    <tr>\n",
       "      <th>grlivarea</th>\n",
       "      <td>0.708624</td>\n",
       "      <td>-0.036526</td>\n",
       "      <td>0.050240</td>\n",
       "      <td>0.199010</td>\n",
       "      <td>0.287389</td>\n",
       "      <td>0.263116</td>\n",
       "      <td>-0.012589</td>\n",
       "      <td>0.593007</td>\n",
       "      <td>-0.079686</td>\n",
       "      <td>0.454868</td>\n",
       "      <td>1.000000</td>\n",
       "      <td>0.630012</td>\n",
       "      <td>0.521270</td>\n",
       "      <td>0.467247</td>\n",
       "      <td>0.247433</td>\n",
       "      <td>0.170205</td>\n",
       "    </tr>\n",
       "    <tr>\n",
       "      <th>fullbath</th>\n",
       "      <td>0.560664</td>\n",
       "      <td>-0.019669</td>\n",
       "      <td>0.055872</td>\n",
       "      <td>0.468271</td>\n",
       "      <td>0.439046</td>\n",
       "      <td>0.126031</td>\n",
       "      <td>-0.038178</td>\n",
       "      <td>0.550600</td>\n",
       "      <td>-0.194149</td>\n",
       "      <td>0.323722</td>\n",
       "      <td>0.630012</td>\n",
       "      <td>1.000000</td>\n",
       "      <td>0.363252</td>\n",
       "      <td>0.469672</td>\n",
       "      <td>0.187703</td>\n",
       "      <td>0.049604</td>\n",
       "    </tr>\n",
       "    <tr>\n",
       "      <th>bedroomabvgr</th>\n",
       "      <td>0.168213</td>\n",
       "      <td>-0.036014</td>\n",
       "      <td>0.046544</td>\n",
       "      <td>-0.070651</td>\n",
       "      <td>-0.040581</td>\n",
       "      <td>0.119690</td>\n",
       "      <td>0.014432</td>\n",
       "      <td>0.101676</td>\n",
       "      <td>0.012980</td>\n",
       "      <td>0.050450</td>\n",
       "      <td>0.521270</td>\n",
       "      <td>0.363252</td>\n",
       "      <td>1.000000</td>\n",
       "      <td>0.086106</td>\n",
       "      <td>0.046854</td>\n",
       "      <td>0.070703</td>\n",
       "    </tr>\n",
       "    <tr>\n",
       "      <th>garagecars</th>\n",
       "      <td>0.640409</td>\n",
       "      <td>-0.039117</td>\n",
       "      <td>0.040522</td>\n",
       "      <td>0.537850</td>\n",
       "      <td>0.420622</td>\n",
       "      <td>0.154871</td>\n",
       "      <td>-0.071330</td>\n",
       "      <td>0.600671</td>\n",
       "      <td>-0.185758</td>\n",
       "      <td>0.434585</td>\n",
       "      <td>0.467247</td>\n",
       "      <td>0.469672</td>\n",
       "      <td>0.086106</td>\n",
       "      <td>1.000000</td>\n",
       "      <td>0.226342</td>\n",
       "      <td>0.020934</td>\n",
       "    </tr>\n",
       "    <tr>\n",
       "      <th>wooddecksf</th>\n",
       "      <td>0.324413</td>\n",
       "      <td>0.022270</td>\n",
       "      <td>0.021011</td>\n",
       "      <td>0.224880</td>\n",
       "      <td>0.205726</td>\n",
       "      <td>0.171698</td>\n",
       "      <td>-0.114649</td>\n",
       "      <td>0.238923</td>\n",
       "      <td>-0.003334</td>\n",
       "      <td>0.232019</td>\n",
       "      <td>0.247433</td>\n",
       "      <td>0.187703</td>\n",
       "      <td>0.046854</td>\n",
       "      <td>0.226342</td>\n",
       "      <td>1.000000</td>\n",
       "      <td>0.073378</td>\n",
       "    </tr>\n",
       "    <tr>\n",
       "      <th>poolarea</th>\n",
       "      <td>0.092404</td>\n",
       "      <td>-0.059689</td>\n",
       "      <td>-0.033737</td>\n",
       "      <td>0.004950</td>\n",
       "      <td>0.005829</td>\n",
       "      <td>0.077672</td>\n",
       "      <td>-0.017710</td>\n",
       "      <td>0.065166</td>\n",
       "      <td>-0.001985</td>\n",
       "      <td>0.126053</td>\n",
       "      <td>0.170205</td>\n",
       "      <td>0.049604</td>\n",
       "      <td>0.070703</td>\n",
       "      <td>0.020934</td>\n",
       "      <td>0.073378</td>\n",
       "      <td>1.000000</td>\n",
       "    </tr>\n",
       "  </tbody>\n",
       "</table>\n",
       "</div>"
      ],
      "text/plain": [
       "              saleprice    yrsold    mosold  yearbuilt  yearremodadd  \\\n",
       "saleprice      1.000000 -0.028923  0.046432   0.522897      0.507101   \n",
       "yrsold        -0.028923  1.000000 -0.145721  -0.013618      0.035743   \n",
       "mosold         0.046432 -0.145721  1.000000   0.012398      0.021490   \n",
       "yearbuilt      0.522897 -0.013618  0.012398   1.000000      0.592855   \n",
       "yearremodadd   0.507101  0.035743  0.021490   0.592855      1.000000   \n",
       "lotarea        0.263843 -0.014261  0.001205   0.014228      0.013788   \n",
       "alley         -0.123611 -0.017571 -0.018130  -0.253115     -0.034565   \n",
       "overallqual    0.790982 -0.027347  0.070815   0.572323      0.550684   \n",
       "overallcond   -0.077856  0.043950 -0.003511  -0.375983      0.073741   \n",
       "totalbsmtsf    0.613581 -0.014969  0.013196   0.391452      0.291066   \n",
       "grlivarea      0.708624 -0.036526  0.050240   0.199010      0.287389   \n",
       "fullbath       0.560664 -0.019669  0.055872   0.468271      0.439046   \n",
       "bedroomabvgr   0.168213 -0.036014  0.046544  -0.070651     -0.040581   \n",
       "garagecars     0.640409 -0.039117  0.040522   0.537850      0.420622   \n",
       "wooddecksf     0.324413  0.022270  0.021011   0.224880      0.205726   \n",
       "poolarea       0.092404 -0.059689 -0.033737   0.004950      0.005829   \n",
       "\n",
       "               lotarea     alley  overallqual  overallcond  totalbsmtsf  \\\n",
       "saleprice     0.263843 -0.123611     0.790982    -0.077856     0.613581   \n",
       "yrsold       -0.014261 -0.017571    -0.027347     0.043950    -0.014969   \n",
       "mosold        0.001205 -0.018130     0.070815    -0.003511     0.013196   \n",
       "yearbuilt     0.014228 -0.253115     0.572323    -0.375983     0.391452   \n",
       "yearremodadd  0.013788 -0.034565     0.550684     0.073741     0.291066   \n",
       "lotarea       1.000000 -0.075624     0.105806    -0.005636     0.260833   \n",
       "alley        -0.075624  1.000000    -0.067704     0.072953    -0.134872   \n",
       "overallqual   0.105806 -0.067704     1.000000    -0.091932     0.537808   \n",
       "overallcond  -0.005636  0.072953    -0.091932     1.000000    -0.171098   \n",
       "totalbsmtsf   0.260833 -0.134872     0.537808    -0.171098     1.000000   \n",
       "grlivarea     0.263116 -0.012589     0.593007    -0.079686     0.454868   \n",
       "fullbath      0.126031 -0.038178     0.550600    -0.194149     0.323722   \n",
       "bedroomabvgr  0.119690  0.014432     0.101676     0.012980     0.050450   \n",
       "garagecars    0.154871 -0.071330     0.600671    -0.185758     0.434585   \n",
       "wooddecksf    0.171698 -0.114649     0.238923    -0.003334     0.232019   \n",
       "poolarea      0.077672 -0.017710     0.065166    -0.001985     0.126053   \n",
       "\n",
       "              grlivarea  fullbath  bedroomabvgr  garagecars  wooddecksf  \\\n",
       "saleprice      0.708624  0.560664      0.168213    0.640409    0.324413   \n",
       "yrsold        -0.036526 -0.019669     -0.036014   -0.039117    0.022270   \n",
       "mosold         0.050240  0.055872      0.046544    0.040522    0.021011   \n",
       "yearbuilt      0.199010  0.468271     -0.070651    0.537850    0.224880   \n",
       "yearremodadd   0.287389  0.439046     -0.040581    0.420622    0.205726   \n",
       "lotarea        0.263116  0.126031      0.119690    0.154871    0.171698   \n",
       "alley         -0.012589 -0.038178      0.014432   -0.071330   -0.114649   \n",
       "overallqual    0.593007  0.550600      0.101676    0.600671    0.238923   \n",
       "overallcond   -0.079686 -0.194149      0.012980   -0.185758   -0.003334   \n",
       "totalbsmtsf    0.454868  0.323722      0.050450    0.434585    0.232019   \n",
       "grlivarea      1.000000  0.630012      0.521270    0.467247    0.247433   \n",
       "fullbath       0.630012  1.000000      0.363252    0.469672    0.187703   \n",
       "bedroomabvgr   0.521270  0.363252      1.000000    0.086106    0.046854   \n",
       "garagecars     0.467247  0.469672      0.086106    1.000000    0.226342   \n",
       "wooddecksf     0.247433  0.187703      0.046854    0.226342    1.000000   \n",
       "poolarea       0.170205  0.049604      0.070703    0.020934    0.073378   \n",
       "\n",
       "              poolarea  \n",
       "saleprice     0.092404  \n",
       "yrsold       -0.059689  \n",
       "mosold       -0.033737  \n",
       "yearbuilt     0.004950  \n",
       "yearremodadd  0.005829  \n",
       "lotarea       0.077672  \n",
       "alley        -0.017710  \n",
       "overallqual   0.065166  \n",
       "overallcond  -0.001985  \n",
       "totalbsmtsf   0.126053  \n",
       "grlivarea     0.170205  \n",
       "fullbath      0.049604  \n",
       "bedroomabvgr  0.070703  \n",
       "garagecars    0.020934  \n",
       "wooddecksf    0.073378  \n",
       "poolarea      1.000000  "
      ]
     },
     "execution_count": 25,
     "metadata": {},
     "output_type": "execute_result"
    }
   ],
   "source": [
    "model_features.corr()"
   ]
  },
  {
   "cell_type": "markdown",
   "metadata": {},
   "source": [
    "We can take the 5 most correlated features from here, keeping in mind to avoid correlated independent variables."
   ]
  },
  {
   "cell_type": "markdown",
   "metadata": {},
   "source": [
    "### Regression Model"
   ]
  },
  {
   "cell_type": "code",
   "execution_count": 26,
   "metadata": {},
   "outputs": [],
   "source": [
    "import statsmodels.api as sm\n",
    "\n",
    "##choose the features for the model\n",
    "data = model_features[['overallqual','totalbsmtsf','grlivarea','garagecars','fullbath']]\n",
    "##sale price is target variable\n",
    "target = model_features.saleprice"
   ]
  },
  {
   "cell_type": "code",
   "execution_count": 27,
   "metadata": {},
   "outputs": [],
   "source": [
    "##create linear regression object\n",
    "lrm = linear_model.LinearRegression()"
   ]
  },
  {
   "cell_type": "code",
   "execution_count": 28,
   "metadata": {},
   "outputs": [
    {
     "name": "stdout",
     "output_type": "stream",
     "text": [
      "\n",
      "Coefficients: \n",
      " [23468.50871893    32.62410932    45.09481373 18455.36615427\n",
      "  1143.22241049]\n",
      "\n",
      "Intercept: \n",
      " -99460.00890091163\n"
     ]
    }
   ],
   "source": [
    "##get and print coefficients using OLS\n",
    "lrm.fit(data, target)\n",
    "print('\\nCoefficients: \\n', lrm.coef_)\n",
    "print('\\nIntercept: \\n', lrm.intercept_)"
   ]
  },
  {
   "cell_type": "code",
   "execution_count": 29,
   "metadata": {},
   "outputs": [
    {
     "data": {
      "text/html": [
       "<table class=\"simpletable\">\n",
       "<caption>OLS Regression Results</caption>\n",
       "<tr>\n",
       "  <th>Dep. Variable:</th>        <td>saleprice</td>    <th>  R-squared:         </th> <td>   0.761</td> \n",
       "</tr>\n",
       "<tr>\n",
       "  <th>Model:</th>                   <td>OLS</td>       <th>  Adj. R-squared:    </th> <td>   0.760</td> \n",
       "</tr>\n",
       "<tr>\n",
       "  <th>Method:</th>             <td>Least Squares</td>  <th>  F-statistic:       </th> <td>   924.4</td> \n",
       "</tr>\n",
       "<tr>\n",
       "  <th>Date:</th>             <td>Tue, 17 Sep 2019</td> <th>  Prob (F-statistic):</th>  <td>  0.00</td>  \n",
       "</tr>\n",
       "<tr>\n",
       "  <th>Time:</th>                 <td>16:05:53</td>     <th>  Log-Likelihood:    </th> <td> -17500.</td> \n",
       "</tr>\n",
       "<tr>\n",
       "  <th>No. Observations:</th>      <td>  1460</td>      <th>  AIC:               </th> <td>3.501e+04</td>\n",
       "</tr>\n",
       "<tr>\n",
       "  <th>Df Residuals:</th>          <td>  1454</td>      <th>  BIC:               </th> <td>3.504e+04</td>\n",
       "</tr>\n",
       "<tr>\n",
       "  <th>Df Model:</th>              <td>     5</td>      <th>                     </th>     <td> </td>    \n",
       "</tr>\n",
       "<tr>\n",
       "  <th>Covariance Type:</th>      <td>nonrobust</td>    <th>                     </th>     <td> </td>    \n",
       "</tr>\n",
       "</table>\n",
       "<table class=\"simpletable\">\n",
       "<tr>\n",
       "       <td></td>          <th>coef</th>     <th>std err</th>      <th>t</th>      <th>P>|t|</th>  <th>[0.025</th>    <th>0.975]</th>  \n",
       "</tr>\n",
       "<tr>\n",
       "  <th>const</th>       <td>-9.946e+04</td> <td> 4664.407</td> <td>  -21.323</td> <td> 0.000</td> <td>-1.09e+05</td> <td>-9.03e+04</td>\n",
       "</tr>\n",
       "<tr>\n",
       "  <th>overallqual</th> <td> 2.347e+04</td> <td> 1096.846</td> <td>   21.396</td> <td> 0.000</td> <td> 2.13e+04</td> <td> 2.56e+04</td>\n",
       "</tr>\n",
       "<tr>\n",
       "  <th>totalbsmtsf</th> <td>   32.6241</td> <td>    2.848</td> <td>   11.455</td> <td> 0.000</td> <td>   27.038</td> <td>   38.211</td>\n",
       "</tr>\n",
       "<tr>\n",
       "  <th>grlivarea</th>   <td>   45.0948</td> <td>    2.763</td> <td>   16.322</td> <td> 0.000</td> <td>   39.675</td> <td>   50.514</td>\n",
       "</tr>\n",
       "<tr>\n",
       "  <th>garagecars</th>  <td> 1.846e+04</td> <td> 1770.103</td> <td>   10.426</td> <td> 0.000</td> <td>  1.5e+04</td> <td> 2.19e+04</td>\n",
       "</tr>\n",
       "<tr>\n",
       "  <th>fullbath</th>    <td> 1143.2224</td> <td> 2519.600</td> <td>    0.454</td> <td> 0.650</td> <td>-3799.216</td> <td> 6085.661</td>\n",
       "</tr>\n",
       "</table>\n",
       "<table class=\"simpletable\">\n",
       "<tr>\n",
       "  <th>Omnibus:</th>       <td>418.319</td> <th>  Durbin-Watson:     </th> <td>   1.968</td> \n",
       "</tr>\n",
       "<tr>\n",
       "  <th>Prob(Omnibus):</th> <td> 0.000</td>  <th>  Jarque-Bera (JB):  </th> <td>36201.837</td>\n",
       "</tr>\n",
       "<tr>\n",
       "  <th>Skew:</th>          <td>-0.256</td>  <th>  Prob(JB):          </th> <td>    0.00</td> \n",
       "</tr>\n",
       "<tr>\n",
       "  <th>Kurtosis:</th>      <td>27.389</td>  <th>  Cond. No.          </th> <td>9.00e+03</td> \n",
       "</tr>\n",
       "</table><br/><br/>Warnings:<br/>[1] Standard Errors assume that the covariance matrix of the errors is correctly specified.<br/>[2] The condition number is large,  9e+03. This might indicate that there are<br/>strong multicollinearity or other numerical problems."
      ],
      "text/plain": [
       "<class 'statsmodels.iolib.summary.Summary'>\n",
       "\"\"\"\n",
       "                            OLS Regression Results                            \n",
       "==============================================================================\n",
       "Dep. Variable:              saleprice   R-squared:                       0.761\n",
       "Model:                            OLS   Adj. R-squared:                  0.760\n",
       "Method:                 Least Squares   F-statistic:                     924.4\n",
       "Date:                Tue, 17 Sep 2019   Prob (F-statistic):               0.00\n",
       "Time:                        16:05:53   Log-Likelihood:                -17500.\n",
       "No. Observations:                1460   AIC:                         3.501e+04\n",
       "Df Residuals:                    1454   BIC:                         3.504e+04\n",
       "Df Model:                           5                                         \n",
       "Covariance Type:            nonrobust                                         \n",
       "===============================================================================\n",
       "                  coef    std err          t      P>|t|      [0.025      0.975]\n",
       "-------------------------------------------------------------------------------\n",
       "const       -9.946e+04   4664.407    -21.323      0.000   -1.09e+05   -9.03e+04\n",
       "overallqual  2.347e+04   1096.846     21.396      0.000    2.13e+04    2.56e+04\n",
       "totalbsmtsf    32.6241      2.848     11.455      0.000      27.038      38.211\n",
       "grlivarea      45.0948      2.763     16.322      0.000      39.675      50.514\n",
       "garagecars   1.846e+04   1770.103     10.426      0.000     1.5e+04    2.19e+04\n",
       "fullbath     1143.2224   2519.600      0.454      0.650   -3799.216    6085.661\n",
       "==============================================================================\n",
       "Omnibus:                      418.319   Durbin-Watson:                   1.968\n",
       "Prob(Omnibus):                  0.000   Jarque-Bera (JB):            36201.837\n",
       "Skew:                          -0.256   Prob(JB):                         0.00\n",
       "Kurtosis:                      27.389   Cond. No.                     9.00e+03\n",
       "==============================================================================\n",
       "\n",
       "Warnings:\n",
       "[1] Standard Errors assume that the covariance matrix of the errors is correctly specified.\n",
       "[2] The condition number is large,  9e+03. This might indicate that there are\n",
       "strong multicollinearity or other numerical problems.\n",
       "\"\"\""
      ]
     },
     "execution_count": 29,
     "metadata": {},
     "output_type": "execute_result"
    }
   ],
   "source": [
    "##add a constant to the features\n",
    "data_constant = sm.add_constant(data)\n",
    "\n",
    "##create an OLS object\n",
    "results = sm.OLS(target, data_constant).fit()\n",
    "\n",
    "results.summary()"
   ]
  },
  {
   "cell_type": "markdown",
   "metadata": {},
   "source": [
    "## Checking the model for the 6 assumptions\n",
    "#### 1. Checking for linearity of the model in its coefficients"
   ]
  },
  {
   "cell_type": "code",
   "execution_count": 30,
   "metadata": {},
   "outputs": [],
   "source": [
    "predictions = lrm.predict(data)"
   ]
  },
  {
   "cell_type": "code",
   "execution_count": 31,
   "metadata": {},
   "outputs": [
    {
     "data": {
      "text/plain": [
       "Text(0.5, 1.0, 'Checking for linearity among coefficients')"
      ]
     },
     "execution_count": 31,
     "metadata": {},
     "output_type": "execute_result"
    },
    {
     "data": {
      "image/png": "[encoded data removed]",
      "text/plain": [
       "<Figure size 432x288 with 1 Axes>"
      ]
     },
     "metadata": {
      "needs_background": "light"
     },
     "output_type": "display_data"
    }
   ],
   "source": [
    "##plot predicted values vs target variable\n",
    "plt.scatter(target, predictions)\n",
    "plt.xlabel('Target Variable')\n",
    "plt.ylabel('Predicted Values')\n",
    "plt.title('Checking for linearity among coefficients')"
   ]
  },
  {
   "cell_type": "markdown",
   "metadata": {},
   "source": [
    "As we can see, there's a slight bow in the slope, indicating that are model is not properly predicting very small or very large values. Let's try applying a natural log transformation to see if it improves the model."
   ]
  },
  {
   "cell_type": "code",
   "execution_count": 32,
   "metadata": {},
   "outputs": [],
   "source": [
    "target_log = np.log(target)"
   ]
  },
  {
   "cell_type": "code",
   "execution_count": 33,
   "metadata": {},
   "outputs": [
    {
     "data": {
      "text/plain": [
       "Text(0.5, 1.0, 'Checking for linearity among coefficients after log transformation')"
      ]
     },
     "execution_count": 33,
     "metadata": {},
     "output_type": "execute_result"
    },
    {
     "data": {
      "image/png": "[encoded data removed]",
      "text/plain": [
       "<Figure size 432x288 with 1 Axes>"
      ]
     },
     "metadata": {
      "needs_background": "light"
     },
     "output_type": "display_data"
    }
   ],
   "source": [
    "##plotpredicted values vs log transformed target variable\n",
    "plt.scatter(target_log, predictions)\n",
    "plt.xlabel('Target Variable')\n",
    "plt.ylabel('Predicted Values')\n",
    "plt.title('Checking for linearity among coefficients after log transformation')"
   ]
  },
  {
   "cell_type": "markdown",
   "metadata": {},
   "source": [
    "That looks better! There seem to be outliers that may need to be dealt with eventually though."
   ]
  },
  {
   "cell_type": "code",
   "execution_count": 35,
   "metadata": {},
   "outputs": [],
   "source": [
    "target_log1 = np.log1p(target)"
   ]
  },
  {
   "cell_type": "code",
   "execution_count": 36,
   "metadata": {},
   "outputs": [
    {
     "data": {
      "text/plain": [
       "Text(0.5, 1.0, 'Checking for linearity among coefficients after log + 1 transformation')"
      ]
     },
     "execution_count": 36,
     "metadata": {},
     "output_type": "execute_result"
    },
    {
     "data": {
      "image/png": "[encoded data removed]",
      "text/plain": [
       "<Figure size 432x288 with 1 Axes>"
      ]
     },
     "metadata": {
      "needs_background": "light"
     },
     "output_type": "display_data"
    }
   ],
   "source": [
    "##plotpredicted values vs log transformed target variable\n",
    "plt.scatter(target_log1, predictions)\n",
    "plt.xlabel('Target Variable')\n",
    "plt.ylabel('Predicted Values')\n",
    "plt.title('Checking for linearity among coefficients after log + 1 transformation')"
   ]
  },
  {
   "cell_type": "markdown",
   "metadata": {},
   "source": [
    "#### 2. The error term should be zero on average"
   ]
  },
  {
   "cell_type": "code",
   "execution_count": null,
   "metadata": {},
   "outputs": [],
   "source": [
    "errors = target - predictions\n",
    "\n",
    "print(\"Mean of the errors is: {}\".format(np.mean(errors)))"
   ]
  },
  {
   "cell_type": "markdown",
   "metadata": {},
   "source": [
    "With a constant added to our data, we can safely assume our average error is 0.\n",
    "#### 3. Homoscedasticity"
   ]
  },
  {
   "cell_type": "code",
   "execution_count": null,
   "metadata": {},
   "outputs": [],
   "source": [
    "plt.scatter(predictions, errors)\n",
    "plt.xlabel('Predicted')\n",
    "plt.ylabel('Residual')\n",
    "plt.axhline(y=0)\n",
    "plt.title('Residual vs. Predicted')\n",
    "plt.show()"
   ]
  },
  {
   "cell_type": "markdown",
   "metadata": {},
   "source": [
    "It seems as if our errors are somewhat well distributed. Let's run some tests to further investigate."
   ]
  },
  {
   "cell_type": "code",
   "execution_count": null,
   "metadata": {},
   "outputs": [],
   "source": [
    "from scipy.stats import bartlett\n",
    "from scipy.stats import levene\n",
    "\n",
    "bart_stats = bartlett(predictions, errors)\n",
    "lev_stats = levene(predictions, errors)\n",
    "\n",
    "print(\"Bartlett test statistic value is {0:3g} and p value is {1:.3g}\".format(bart_stats[0], bart_stats[1]))\n",
    "print(\"Levene test statistic value is {0:3g} and p value is {1:.3g}\".format(lev_stats[0], lev_stats[1]))"
   ]
  },
  {
   "cell_type": "markdown",
   "metadata": {},
   "source": [
    "The p-values of both tests are lower than 0.05. So, the test results reject the null hypothesis which means our errors are heteroscedastic.\n",
    "#### 4. Low multicollinearity\n",
    "We accounted for this in our feature engineering by discarded correlated variables.\n",
    "#### 5. Error terms should be uncorrelated with one another"
   ]
  },
  {
   "cell_type": "code",
   "execution_count": null,
   "metadata": {},
   "outputs": [],
   "source": [
    "plt.plot(errors)\n",
    "plt.show()"
   ]
  },
  {
   "cell_type": "code",
   "execution_count": null,
   "metadata": {},
   "outputs": [],
   "source": [
    "from statsmodels.tsa.stattools import acf\n",
    "\n",
    "acf_data = acf(errors)\n",
    "\n",
    "plt.plot(acf_data[1:])\n",
    "plt.show()"
   ]
  },
  {
   "cell_type": "markdown",
   "metadata": {},
   "source": [
    "It looks like our errors are uncorrelated with each other.\n",
    "#### 6. Features shouldn't be correlated with the errors"
   ]
  },
  {
   "cell_type": "code",
   "execution_count": null,
   "metadata": {},
   "outputs": [],
   "source": [
    "rand_nums = np.random.normal(np.mean(errors), np.std(errors), len(errors))\n",
    "\n",
    "plt.figure(figsize=(12,5))\n",
    "\n",
    "plt.subplot(1,2,1)\n",
    "plt.scatter(np.sort(rand_nums), np.sort(errors)) # we sort the arrays\n",
    "plt.xlabel(\"the normally distributed random variable\")\n",
    "plt.ylabel(\"errors of the model\")\n",
    "plt.title(\"QQ plot\")\n",
    "\n",
    "plt.subplot(1,2,2)\n",
    "plt.hist(errors)\n",
    "plt.xlabel(\"errors\")\n",
    "plt.title(\"Histogram of the errors\")\n",
    "\n",
    "plt.tight_layout()\n",
    "plt.show()"
   ]
  },
  {
   "cell_type": "markdown",
   "metadata": {},
   "source": [
    "It looks pretty good, but there seem to be a few buggy data points or outliers throughout our visualizations. We'll need to identify them later on."
   ]
  },
  {
   "cell_type": "code",
   "execution_count": null,
   "metadata": {},
   "outputs": [],
   "source": []
  }
 ],
 "metadata": {
  "kernelspec": {
   "display_name": "Python 3",
   "language": "python",
   "name": "python3"
  },
  "language_info": {
   "codemirror_mode": {
    "name": "ipython",
    "version": 3
   },
   "file_extension": ".py",
   "mimetype": "text/x-python",
   "name": "python",
   "nbconvert_exporter": "python",
   "pygments_lexer": "ipython3",
   "version": "3.7.3"
  }
 },
 "nbformat": 4,
 "nbformat_minor": 2
}
