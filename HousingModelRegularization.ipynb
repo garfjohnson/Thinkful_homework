{
 "cells": [
  {
   "cell_type": "code",
   "execution_count": 37,
   "metadata": {},
   "outputs": [],
   "source": [
    "import matplotlib.pyplot as plt\n",
    "import numpy as np\n",
    "import pandas as pd\n",
    "from sklearn.linear_model import LinearRegression, LassoCV, RidgeCV, ElasticNetCV\n",
    "from sklearn.model_selection import train_test_split\n",
    "from sklearn.metrics import mean_absolute_error\n",
    "import statsmodels.api as sm\n",
    "from statsmodels.tools.eval_measures import mse, rmse\n",
    "from sqlalchemy import create_engine\n",
    "import seaborn as sns\n",
    "\n",
    "# Display preferences.\n",
    "%matplotlib inline\n",
    "pd.options.display.float_format = '{:.3f}'.format"
   ]
  },
  {
   "cell_type": "code",
   "execution_count": 2,
   "metadata": {},
   "outputs": [],
   "source": [
    "import warnings\n",
    "warnings.filterwarnings('ignore')\n",
    "\n",
    "postgres_user = 'dsbc_student'\n",
    "postgres_pw = '7*.8G9QH21'\n",
    "postgres_host = '142.93.121.174'\n",
    "postgres_port = '5432'\n",
    "postgres_db = 'houseprices'"
   ]
  },
  {
   "cell_type": "code",
   "execution_count": 3,
   "metadata": {},
   "outputs": [],
   "source": [
    "#pull the data\n",
    "engine = create_engine('postgresql://{}:{}@{}:{}/{}'.format(\n",
    "    postgres_user, postgres_pw, postgres_host, postgres_port, postgres_db))\n",
    "housing_df = pd.read_sql_query('select * from houseprices',con=engine)\n",
    "\n",
    "# no need for an open connection, as we're only doing a single query\n",
    "engine.dispose()"
   ]
  },
  {
   "cell_type": "code",
   "execution_count": 4,
   "metadata": {},
   "outputs": [
    {
     "data": {
      "text/html": [
       "<div>\n",
       "<style scoped>\n",
       "    .dataframe tbody tr th:only-of-type {\n",
       "        vertical-align: middle;\n",
       "    }\n",
       "\n",
       "    .dataframe tbody tr th {\n",
       "        vertical-align: top;\n",
       "    }\n",
       "\n",
       "    .dataframe thead th {\n",
       "        text-align: right;\n",
       "    }\n",
       "</style>\n",
       "<table border=\"1\" class=\"dataframe\">\n",
       "  <thead>\n",
       "    <tr style=\"text-align: right;\">\n",
       "      <th></th>\n",
       "      <th>id</th>\n",
       "      <th>mssubclass</th>\n",
       "      <th>mszoning</th>\n",
       "      <th>lotfrontage</th>\n",
       "      <th>lotarea</th>\n",
       "      <th>street</th>\n",
       "      <th>alley</th>\n",
       "      <th>lotshape</th>\n",
       "      <th>landcontour</th>\n",
       "      <th>utilities</th>\n",
       "      <th>...</th>\n",
       "      <th>poolarea</th>\n",
       "      <th>poolqc</th>\n",
       "      <th>fence</th>\n",
       "      <th>miscfeature</th>\n",
       "      <th>miscval</th>\n",
       "      <th>mosold</th>\n",
       "      <th>yrsold</th>\n",
       "      <th>saletype</th>\n",
       "      <th>salecondition</th>\n",
       "      <th>saleprice</th>\n",
       "    </tr>\n",
       "  </thead>\n",
       "  <tbody>\n",
       "    <tr>\n",
       "      <th>0</th>\n",
       "      <td>1</td>\n",
       "      <td>60</td>\n",
       "      <td>RL</td>\n",
       "      <td>65.000</td>\n",
       "      <td>8450</td>\n",
       "      <td>Pave</td>\n",
       "      <td>None</td>\n",
       "      <td>Reg</td>\n",
       "      <td>Lvl</td>\n",
       "      <td>AllPub</td>\n",
       "      <td>...</td>\n",
       "      <td>0</td>\n",
       "      <td>None</td>\n",
       "      <td>None</td>\n",
       "      <td>None</td>\n",
       "      <td>0</td>\n",
       "      <td>2</td>\n",
       "      <td>2008</td>\n",
       "      <td>WD</td>\n",
       "      <td>Normal</td>\n",
       "      <td>208500</td>\n",
       "    </tr>\n",
       "    <tr>\n",
       "      <th>1</th>\n",
       "      <td>2</td>\n",
       "      <td>20</td>\n",
       "      <td>RL</td>\n",
       "      <td>80.000</td>\n",
       "      <td>9600</td>\n",
       "      <td>Pave</td>\n",
       "      <td>None</td>\n",
       "      <td>Reg</td>\n",
       "      <td>Lvl</td>\n",
       "      <td>AllPub</td>\n",
       "      <td>...</td>\n",
       "      <td>0</td>\n",
       "      <td>None</td>\n",
       "      <td>None</td>\n",
       "      <td>None</td>\n",
       "      <td>0</td>\n",
       "      <td>5</td>\n",
       "      <td>2007</td>\n",
       "      <td>WD</td>\n",
       "      <td>Normal</td>\n",
       "      <td>181500</td>\n",
       "    </tr>\n",
       "    <tr>\n",
       "      <th>2</th>\n",
       "      <td>3</td>\n",
       "      <td>60</td>\n",
       "      <td>RL</td>\n",
       "      <td>68.000</td>\n",
       "      <td>11250</td>\n",
       "      <td>Pave</td>\n",
       "      <td>None</td>\n",
       "      <td>IR1</td>\n",
       "      <td>Lvl</td>\n",
       "      <td>AllPub</td>\n",
       "      <td>...</td>\n",
       "      <td>0</td>\n",
       "      <td>None</td>\n",
       "      <td>None</td>\n",
       "      <td>None</td>\n",
       "      <td>0</td>\n",
       "      <td>9</td>\n",
       "      <td>2008</td>\n",
       "      <td>WD</td>\n",
       "      <td>Normal</td>\n",
       "      <td>223500</td>\n",
       "    </tr>\n",
       "    <tr>\n",
       "      <th>3</th>\n",
       "      <td>4</td>\n",
       "      <td>70</td>\n",
       "      <td>RL</td>\n",
       "      <td>60.000</td>\n",
       "      <td>9550</td>\n",
       "      <td>Pave</td>\n",
       "      <td>None</td>\n",
       "      <td>IR1</td>\n",
       "      <td>Lvl</td>\n",
       "      <td>AllPub</td>\n",
       "      <td>...</td>\n",
       "      <td>0</td>\n",
       "      <td>None</td>\n",
       "      <td>None</td>\n",
       "      <td>None</td>\n",
       "      <td>0</td>\n",
       "      <td>2</td>\n",
       "      <td>2006</td>\n",
       "      <td>WD</td>\n",
       "      <td>Abnorml</td>\n",
       "      <td>140000</td>\n",
       "    </tr>\n",
       "    <tr>\n",
       "      <th>4</th>\n",
       "      <td>5</td>\n",
       "      <td>60</td>\n",
       "      <td>RL</td>\n",
       "      <td>84.000</td>\n",
       "      <td>14260</td>\n",
       "      <td>Pave</td>\n",
       "      <td>None</td>\n",
       "      <td>IR1</td>\n",
       "      <td>Lvl</td>\n",
       "      <td>AllPub</td>\n",
       "      <td>...</td>\n",
       "      <td>0</td>\n",
       "      <td>None</td>\n",
       "      <td>None</td>\n",
       "      <td>None</td>\n",
       "      <td>0</td>\n",
       "      <td>12</td>\n",
       "      <td>2008</td>\n",
       "      <td>WD</td>\n",
       "      <td>Normal</td>\n",
       "      <td>250000</td>\n",
       "    </tr>\n",
       "  </tbody>\n",
       "</table>\n",
       "<p>5 rows × 81 columns</p>\n",
       "</div>"
      ],
      "text/plain": [
       "   id  mssubclass mszoning  lotfrontage  lotarea street alley lotshape  \\\n",
       "0   1          60       RL       65.000     8450   Pave  None      Reg   \n",
       "1   2          20       RL       80.000     9600   Pave  None      Reg   \n",
       "2   3          60       RL       68.000    11250   Pave  None      IR1   \n",
       "3   4          70       RL       60.000     9550   Pave  None      IR1   \n",
       "4   5          60       RL       84.000    14260   Pave  None      IR1   \n",
       "\n",
       "  landcontour utilities  ... poolarea poolqc fence miscfeature miscval mosold  \\\n",
       "0         Lvl    AllPub  ...        0   None  None        None       0      2   \n",
       "1         Lvl    AllPub  ...        0   None  None        None       0      5   \n",
       "2         Lvl    AllPub  ...        0   None  None        None       0      9   \n",
       "3         Lvl    AllPub  ...        0   None  None        None       0      2   \n",
       "4         Lvl    AllPub  ...        0   None  None        None       0     12   \n",
       "\n",
       "  yrsold  saletype  salecondition  saleprice  \n",
       "0   2008        WD         Normal     208500  \n",
       "1   2007        WD         Normal     181500  \n",
       "2   2008        WD         Normal     223500  \n",
       "3   2006        WD        Abnorml     140000  \n",
       "4   2008        WD         Normal     250000  \n",
       "\n",
       "[5 rows x 81 columns]"
      ]
     },
     "execution_count": 4,
     "metadata": {},
     "output_type": "execute_result"
    }
   ],
   "source": [
    "housing_df.head()"
   ]
  },
  {
   "cell_type": "markdown",
   "metadata": {},
   "source": [
    "#### Data Cleaning"
   ]
  },
  {
   "cell_type": "code",
   "execution_count": 5,
   "metadata": {},
   "outputs": [
    {
     "name": "stdout",
     "output_type": "stream",
     "text": [
      "<class 'pandas.core.frame.DataFrame'>\n",
      "RangeIndex: 1460 entries, 0 to 1459\n",
      "Data columns (total 81 columns):\n",
      "id               1460 non-null int64\n",
      "mssubclass       1460 non-null int64\n",
      "mszoning         1460 non-null object\n",
      "lotfrontage      1201 non-null float64\n",
      "lotarea          1460 non-null int64\n",
      "street           1460 non-null object\n",
      "alley            91 non-null object\n",
      "lotshape         1460 non-null object\n",
      "landcontour      1460 non-null object\n",
      "utilities        1460 non-null object\n",
      "lotconfig        1460 non-null object\n",
      "landslope        1460 non-null object\n",
      "neighborhood     1460 non-null object\n",
      "condition1       1460 non-null object\n",
      "condition2       1460 non-null object\n",
      "bldgtype         1460 non-null object\n",
      "housestyle       1460 non-null object\n",
      "overallqual      1460 non-null int64\n",
      "overallcond      1460 non-null int64\n",
      "yearbuilt        1460 non-null int64\n",
      "yearremodadd     1460 non-null int64\n",
      "roofstyle        1460 non-null object\n",
      "roofmatl         1460 non-null object\n",
      "exterior1st      1460 non-null object\n",
      "exterior2nd      1460 non-null object\n",
      "masvnrtype       1452 non-null object\n",
      "masvnrarea       1452 non-null float64\n",
      "exterqual        1460 non-null object\n",
      "extercond        1460 non-null object\n",
      "foundation       1460 non-null object\n",
      "bsmtqual         1423 non-null object\n",
      "bsmtcond         1423 non-null object\n",
      "bsmtexposure     1422 non-null object\n",
      "bsmtfintype1     1423 non-null object\n",
      "bsmtfinsf1       1460 non-null int64\n",
      "bsmtfintype2     1422 non-null object\n",
      "bsmtfinsf2       1460 non-null int64\n",
      "bsmtunfsf        1460 non-null int64\n",
      "totalbsmtsf      1460 non-null int64\n",
      "heating          1460 non-null object\n",
      "heatingqc        1460 non-null object\n",
      "centralair       1460 non-null object\n",
      "electrical       1459 non-null object\n",
      "firstflrsf       1460 non-null int64\n",
      "secondflrsf      1460 non-null int64\n",
      "lowqualfinsf     1460 non-null int64\n",
      "grlivarea        1460 non-null int64\n",
      "bsmtfullbath     1460 non-null int64\n",
      "bsmthalfbath     1460 non-null int64\n",
      "fullbath         1460 non-null int64\n",
      "halfbath         1460 non-null int64\n",
      "bedroomabvgr     1460 non-null int64\n",
      "kitchenabvgr     1460 non-null int64\n",
      "kitchenqual      1460 non-null object\n",
      "totrmsabvgrd     1460 non-null int64\n",
      "functional       1460 non-null object\n",
      "fireplaces       1460 non-null int64\n",
      "fireplacequ      770 non-null object\n",
      "garagetype       1379 non-null object\n",
      "garageyrblt      1379 non-null float64\n",
      "garagefinish     1379 non-null object\n",
      "garagecars       1460 non-null int64\n",
      "garagearea       1460 non-null int64\n",
      "garagequal       1379 non-null object\n",
      "garagecond       1379 non-null object\n",
      "paveddrive       1460 non-null object\n",
      "wooddecksf       1460 non-null int64\n",
      "openporchsf      1460 non-null int64\n",
      "enclosedporch    1460 non-null int64\n",
      "threessnporch    1460 non-null int64\n",
      "screenporch      1460 non-null int64\n",
      "poolarea         1460 non-null int64\n",
      "poolqc           7 non-null object\n",
      "fence            281 non-null object\n",
      "miscfeature      54 non-null object\n",
      "miscval          1460 non-null int64\n",
      "mosold           1460 non-null int64\n",
      "yrsold           1460 non-null int64\n",
      "saletype         1460 non-null object\n",
      "salecondition    1460 non-null object\n",
      "saleprice        1460 non-null int64\n",
      "dtypes: float64(3), int64(35), object(43)\n",
      "memory usage: 678.7+ KB\n"
     ]
    }
   ],
   "source": [
    "housing_df.info()"
   ]
  },
  {
   "cell_type": "code",
   "execution_count": 6,
   "metadata": {},
   "outputs": [
    {
     "data": {
      "text/plain": [
       "id              0.000\n",
       "mssubclass      0.000\n",
       "mszoning        0.000\n",
       "lotfrontage     0.177\n",
       "lotarea         0.000\n",
       "street          0.000\n",
       "alley           0.938\n",
       "lotshape        0.000\n",
       "landcontour     0.000\n",
       "utilities       0.000\n",
       "lotconfig       0.000\n",
       "landslope       0.000\n",
       "neighborhood    0.000\n",
       "condition1      0.000\n",
       "condition2      0.000\n",
       "bldgtype        0.000\n",
       "housestyle      0.000\n",
       "overallqual     0.000\n",
       "overallcond     0.000\n",
       "yearbuilt       0.000\n",
       "yearremodadd    0.000\n",
       "roofstyle       0.000\n",
       "roofmatl        0.000\n",
       "exterior1st     0.000\n",
       "exterior2nd     0.000\n",
       "masvnrtype      0.005\n",
       "masvnrarea      0.005\n",
       "exterqual       0.000\n",
       "extercond       0.000\n",
       "foundation      0.000\n",
       "                 ... \n",
       "bedroomabvgr    0.000\n",
       "kitchenabvgr    0.000\n",
       "kitchenqual     0.000\n",
       "totrmsabvgrd    0.000\n",
       "functional      0.000\n",
       "fireplaces      0.000\n",
       "fireplacequ     0.473\n",
       "garagetype      0.055\n",
       "garageyrblt     0.055\n",
       "garagefinish    0.055\n",
       "garagecars      0.000\n",
       "garagearea      0.000\n",
       "garagequal      0.055\n",
       "garagecond      0.055\n",
       "paveddrive      0.000\n",
       "wooddecksf      0.000\n",
       "openporchsf     0.000\n",
       "enclosedporch   0.000\n",
       "threessnporch   0.000\n",
       "screenporch     0.000\n",
       "poolarea        0.000\n",
       "poolqc          0.995\n",
       "fence           0.808\n",
       "miscfeature     0.963\n",
       "miscval         0.000\n",
       "mosold          0.000\n",
       "yrsold          0.000\n",
       "saletype        0.000\n",
       "salecondition   0.000\n",
       "saleprice       0.000\n",
       "Length: 81, dtype: float64"
      ]
     },
     "execution_count": 6,
     "metadata": {},
     "output_type": "execute_result"
    }
   ],
   "source": [
    "housing_df.isnull().mean()"
   ]
  },
  {
   "cell_type": "markdown",
   "metadata": {},
   "source": [
    "Right off the bat, there seems to be a few obvious ways to trim this data set. Some columns are highly specific subsets of other categories which can be easily discarded. Another is things like alley type missing more than 90% of values, which surely represents no alley access, so we can turn that column into a boolean -- true or false if there is any alley access. Lastly we can drop ambiguous columns like 'misc. features'."
   ]
  },
  {
   "cell_type": "code",
   "execution_count": 7,
   "metadata": {},
   "outputs": [
    {
     "data": {
      "text/plain": [
       "21    Grvl\n",
       "30    Pave\n",
       "56    Pave\n",
       "79    Grvl\n",
       "87    Pave\n",
       "Name: alley, dtype: object"
      ]
     },
     "execution_count": 7,
     "metadata": {},
     "output_type": "execute_result"
    }
   ],
   "source": [
    "##check non-null alley values\n",
    "housing_df['alley'].loc[housing_df['alley'].isnull()==False].head()"
   ]
  },
  {
   "cell_type": "code",
   "execution_count": 8,
   "metadata": {},
   "outputs": [
    {
     "data": {
      "text/plain": [
       "0    None\n",
       "1    None\n",
       "2    None\n",
       "3    None\n",
       "4    None\n",
       "Name: alley, dtype: object"
      ]
     },
     "execution_count": 8,
     "metadata": {},
     "output_type": "execute_result"
    }
   ],
   "source": [
    "housing_df['alley'].head()"
   ]
  },
  {
   "cell_type": "code",
   "execution_count": 9,
   "metadata": {},
   "outputs": [],
   "source": [
    "##Fill null values with false\n",
    "housing_df['alley'].fillna(value=False, inplace=True)"
   ]
  },
  {
   "cell_type": "code",
   "execution_count": 10,
   "metadata": {},
   "outputs": [
    {
     "data": {
      "text/plain": [
       "0    False\n",
       "1    False\n",
       "2    False\n",
       "3    False\n",
       "4    False\n",
       "Name: alley, dtype: object"
      ]
     },
     "execution_count": 10,
     "metadata": {},
     "output_type": "execute_result"
    }
   ],
   "source": [
    "housing_df['alley'].head()"
   ]
  },
  {
   "cell_type": "code",
   "execution_count": 11,
   "metadata": {},
   "outputs": [],
   "source": [
    "##turn alley column to true or false\n",
    "housing_df.loc[housing_df['alley'] != False, 'alley'] = True"
   ]
  },
  {
   "cell_type": "markdown",
   "metadata": {},
   "source": [
    "Instead of whittling down to the important categories, I think it's smarter to build from the ground up and add obviously important columns first to the features for our model."
   ]
  },
  {
   "cell_type": "code",
   "execution_count": 12,
   "metadata": {},
   "outputs": [],
   "source": [
    "##create new df with more focused features to explore\n",
    "model_features = (housing_df[['saleprice','yrsold','mosold','yearbuilt','yearremodadd','lotarea','neighborhood','alley','overallqual','overallcond',\n",
    "                              'bldgtype','housestyle','totalbsmtsf','grlivarea','fullbath','bedroomabvgr','kitchenqual','functional','garagecars',\n",
    "                             'paveddrive','wooddecksf','poolarea']]).copy()"
   ]
  },
  {
   "cell_type": "code",
   "execution_count": 13,
   "metadata": {},
   "outputs": [
    {
     "data": {
      "text/plain": [
       "saleprice      0.000\n",
       "yrsold         0.000\n",
       "mosold         0.000\n",
       "yearbuilt      0.000\n",
       "yearremodadd   0.000\n",
       "lotarea        0.000\n",
       "neighborhood   0.000\n",
       "alley          0.000\n",
       "overallqual    0.000\n",
       "overallcond    0.000\n",
       "bldgtype       0.000\n",
       "housestyle     0.000\n",
       "totalbsmtsf    0.000\n",
       "grlivarea      0.000\n",
       "fullbath       0.000\n",
       "bedroomabvgr   0.000\n",
       "kitchenqual    0.000\n",
       "functional     0.000\n",
       "garagecars     0.000\n",
       "paveddrive     0.000\n",
       "wooddecksf     0.000\n",
       "poolarea       0.000\n",
       "dtype: float64"
      ]
     },
     "execution_count": 13,
     "metadata": {},
     "output_type": "execute_result"
    }
   ],
   "source": [
    "#show percent null values for each column\n",
    "model_features.isnull().mean()"
   ]
  },
  {
   "cell_type": "markdown",
   "metadata": {},
   "source": [
    "Now we have a more focused dataset without any null values. Time to explore the data.\n",
    "\n",
    "#### Data Exploration\n",
    "\n",
    "We'll focus on saleprice as our target variable."
   ]
  },
  {
   "cell_type": "code",
   "execution_count": 14,
   "metadata": {},
   "outputs": [
    {
     "data": {
      "text/plain": [
       "<matplotlib.axes._subplots.AxesSubplot at 0x145b7130>"
      ]
     },
     "execution_count": 14,
     "metadata": {},
     "output_type": "execute_result"
    },
    {
     "data": {
      "image/png": "[encoded data removed]",
      "text/plain": [
       "<Figure size 432x288 with 1 Axes>"
      ]
     },
     "metadata": {
      "needs_background": "light"
     },
     "output_type": "display_data"
    }
   ],
   "source": [
    "#plot saleprice distribution\n",
    "sns.distplot(model_features.saleprice)"
   ]
  },
  {
   "cell_type": "markdown",
   "metadata": {},
   "source": [
    "Our target variable seems to be non-normal and skewed to the right. It's time to turn our categorical variables into binary ones in order to research their correlations to our target."
   ]
  },
  {
   "cell_type": "code",
   "execution_count": 15,
   "metadata": {},
   "outputs": [
    {
     "name": "stdout",
     "output_type": "stream",
     "text": [
      "<class 'pandas.core.frame.DataFrame'>\n",
      "RangeIndex: 1460 entries, 0 to 1459\n",
      "Data columns (total 22 columns):\n",
      "saleprice       1460 non-null int64\n",
      "yrsold          1460 non-null int64\n",
      "mosold          1460 non-null int64\n",
      "yearbuilt       1460 non-null int64\n",
      "yearremodadd    1460 non-null int64\n",
      "lotarea         1460 non-null int64\n",
      "neighborhood    1460 non-null object\n",
      "alley           1460 non-null bool\n",
      "overallqual     1460 non-null int64\n",
      "overallcond     1460 non-null int64\n",
      "bldgtype        1460 non-null object\n",
      "housestyle      1460 non-null object\n",
      "totalbsmtsf     1460 non-null int64\n",
      "grlivarea       1460 non-null int64\n",
      "fullbath        1460 non-null int64\n",
      "bedroomabvgr    1460 non-null int64\n",
      "kitchenqual     1460 non-null object\n",
      "functional      1460 non-null object\n",
      "garagecars      1460 non-null int64\n",
      "paveddrive      1460 non-null object\n",
      "wooddecksf      1460 non-null int64\n",
      "poolarea        1460 non-null int64\n",
      "dtypes: bool(1), int64(15), object(6)\n",
      "memory usage: 206.8+ KB\n"
     ]
    }
   ],
   "source": [
    "model_features.info()"
   ]
  },
  {
   "cell_type": "code",
   "execution_count": 16,
   "metadata": {},
   "outputs": [
    {
     "data": {
      "text/plain": [
       "25"
      ]
     },
     "execution_count": 16,
     "metadata": {},
     "output_type": "execute_result"
    }
   ],
   "source": [
    "##number of unique values in neighborhood\n",
    "model_features.neighborhood.nunique()"
   ]
  },
  {
   "cell_type": "markdown",
   "metadata": {},
   "source": [
    "While neighborhood seems to be an important piece of information, 25 seperate categories is too many for our model."
   ]
  },
  {
   "cell_type": "code",
   "execution_count": 17,
   "metadata": {},
   "outputs": [],
   "source": [
    "# drop neighborhood\n",
    "model_features.drop(columns=['neighborhood'], inplace=True)"
   ]
  },
  {
   "cell_type": "code",
   "execution_count": 18,
   "metadata": {
    "scrolled": true
   },
   "outputs": [
    {
     "name": "stdout",
     "output_type": "stream",
     "text": [
      "<class 'pandas.core.frame.DataFrame'>\n",
      "RangeIndex: 1460 entries, 0 to 1459\n",
      "Data columns (total 21 columns):\n",
      "saleprice       1460 non-null int64\n",
      "yrsold          1460 non-null int64\n",
      "mosold          1460 non-null int64\n",
      "yearbuilt       1460 non-null int64\n",
      "yearremodadd    1460 non-null int64\n",
      "lotarea         1460 non-null int64\n",
      "alley           1460 non-null bool\n",
      "overallqual     1460 non-null int64\n",
      "overallcond     1460 non-null int64\n",
      "bldgtype        1460 non-null object\n",
      "housestyle      1460 non-null object\n",
      "totalbsmtsf     1460 non-null int64\n",
      "grlivarea       1460 non-null int64\n",
      "fullbath        1460 non-null int64\n",
      "bedroomabvgr    1460 non-null int64\n",
      "kitchenqual     1460 non-null object\n",
      "functional      1460 non-null object\n",
      "garagecars      1460 non-null int64\n",
      "paveddrive      1460 non-null object\n",
      "wooddecksf      1460 non-null int64\n",
      "poolarea        1460 non-null int64\n",
      "dtypes: bool(1), int64(15), object(5)\n",
      "memory usage: 201.1+ KB\n"
     ]
    }
   ],
   "source": [
    "model_features.info()"
   ]
  },
  {
   "cell_type": "code",
   "execution_count": 19,
   "metadata": {},
   "outputs": [
    {
     "data": {
      "text/plain": [
       "5"
      ]
     },
     "execution_count": 19,
     "metadata": {},
     "output_type": "execute_result"
    }
   ],
   "source": [
    "model_features.bldgtype.nunique()"
   ]
  },
  {
   "cell_type": "code",
   "execution_count": 20,
   "metadata": {},
   "outputs": [
    {
     "data": {
      "text/plain": [
       "8"
      ]
     },
     "execution_count": 20,
     "metadata": {},
     "output_type": "execute_result"
    }
   ],
   "source": [
    "model_features.housestyle.nunique()"
   ]
  },
  {
   "cell_type": "code",
   "execution_count": 21,
   "metadata": {},
   "outputs": [
    {
     "data": {
      "text/plain": [
       "4"
      ]
     },
     "execution_count": 21,
     "metadata": {},
     "output_type": "execute_result"
    }
   ],
   "source": [
    "model_features.kitchenqual.nunique()"
   ]
  },
  {
   "cell_type": "code",
   "execution_count": 22,
   "metadata": {},
   "outputs": [
    {
     "data": {
      "text/plain": [
       "3"
      ]
     },
     "execution_count": 22,
     "metadata": {},
     "output_type": "execute_result"
    }
   ],
   "source": [
    "model_features.paveddrive.nunique()"
   ]
  },
  {
   "cell_type": "markdown",
   "metadata": {},
   "source": [
    "For our purposes here, I'll drop the categorical variables and work with the numeric."
   ]
  },
  {
   "cell_type": "code",
   "execution_count": 23,
   "metadata": {},
   "outputs": [],
   "source": [
    "##drop categorical columns\n",
    "model_features.drop(columns=['bldgtype','housestyle','kitchenqual','functional','paveddrive'], inplace=True)"
   ]
  },
  {
   "cell_type": "code",
   "execution_count": 24,
   "metadata": {},
   "outputs": [
    {
     "data": {
      "text/html": [
       "<div>\n",
       "<style scoped>\n",
       "    .dataframe tbody tr th:only-of-type {\n",
       "        vertical-align: middle;\n",
       "    }\n",
       "\n",
       "    .dataframe tbody tr th {\n",
       "        vertical-align: top;\n",
       "    }\n",
       "\n",
       "    .dataframe thead th {\n",
       "        text-align: right;\n",
       "    }\n",
       "</style>\n",
       "<table border=\"1\" class=\"dataframe\">\n",
       "  <thead>\n",
       "    <tr style=\"text-align: right;\">\n",
       "      <th></th>\n",
       "      <th>saleprice</th>\n",
       "      <th>yrsold</th>\n",
       "      <th>mosold</th>\n",
       "      <th>yearbuilt</th>\n",
       "      <th>yearremodadd</th>\n",
       "      <th>lotarea</th>\n",
       "      <th>alley</th>\n",
       "      <th>overallqual</th>\n",
       "      <th>overallcond</th>\n",
       "      <th>totalbsmtsf</th>\n",
       "      <th>grlivarea</th>\n",
       "      <th>fullbath</th>\n",
       "      <th>bedroomabvgr</th>\n",
       "      <th>garagecars</th>\n",
       "      <th>wooddecksf</th>\n",
       "      <th>poolarea</th>\n",
       "    </tr>\n",
       "  </thead>\n",
       "  <tbody>\n",
       "    <tr>\n",
       "      <th>0</th>\n",
       "      <td>208500</td>\n",
       "      <td>2008</td>\n",
       "      <td>2</td>\n",
       "      <td>2003</td>\n",
       "      <td>2003</td>\n",
       "      <td>8450</td>\n",
       "      <td>False</td>\n",
       "      <td>7</td>\n",
       "      <td>5</td>\n",
       "      <td>856</td>\n",
       "      <td>1710</td>\n",
       "      <td>2</td>\n",
       "      <td>3</td>\n",
       "      <td>2</td>\n",
       "      <td>0</td>\n",
       "      <td>0</td>\n",
       "    </tr>\n",
       "    <tr>\n",
       "      <th>1</th>\n",
       "      <td>181500</td>\n",
       "      <td>2007</td>\n",
       "      <td>5</td>\n",
       "      <td>1976</td>\n",
       "      <td>1976</td>\n",
       "      <td>9600</td>\n",
       "      <td>False</td>\n",
       "      <td>6</td>\n",
       "      <td>8</td>\n",
       "      <td>1262</td>\n",
       "      <td>1262</td>\n",
       "      <td>2</td>\n",
       "      <td>3</td>\n",
       "      <td>2</td>\n",
       "      <td>298</td>\n",
       "      <td>0</td>\n",
       "    </tr>\n",
       "    <tr>\n",
       "      <th>2</th>\n",
       "      <td>223500</td>\n",
       "      <td>2008</td>\n",
       "      <td>9</td>\n",
       "      <td>2001</td>\n",
       "      <td>2002</td>\n",
       "      <td>11250</td>\n",
       "      <td>False</td>\n",
       "      <td>7</td>\n",
       "      <td>5</td>\n",
       "      <td>920</td>\n",
       "      <td>1786</td>\n",
       "      <td>2</td>\n",
       "      <td>3</td>\n",
       "      <td>2</td>\n",
       "      <td>0</td>\n",
       "      <td>0</td>\n",
       "    </tr>\n",
       "    <tr>\n",
       "      <th>3</th>\n",
       "      <td>140000</td>\n",
       "      <td>2006</td>\n",
       "      <td>2</td>\n",
       "      <td>1915</td>\n",
       "      <td>1970</td>\n",
       "      <td>9550</td>\n",
       "      <td>False</td>\n",
       "      <td>7</td>\n",
       "      <td>5</td>\n",
       "      <td>756</td>\n",
       "      <td>1717</td>\n",
       "      <td>1</td>\n",
       "      <td>3</td>\n",
       "      <td>3</td>\n",
       "      <td>0</td>\n",
       "      <td>0</td>\n",
       "    </tr>\n",
       "    <tr>\n",
       "      <th>4</th>\n",
       "      <td>250000</td>\n",
       "      <td>2008</td>\n",
       "      <td>12</td>\n",
       "      <td>2000</td>\n",
       "      <td>2000</td>\n",
       "      <td>14260</td>\n",
       "      <td>False</td>\n",
       "      <td>8</td>\n",
       "      <td>5</td>\n",
       "      <td>1145</td>\n",
       "      <td>2198</td>\n",
       "      <td>2</td>\n",
       "      <td>4</td>\n",
       "      <td>3</td>\n",
       "      <td>192</td>\n",
       "      <td>0</td>\n",
       "    </tr>\n",
       "  </tbody>\n",
       "</table>\n",
       "</div>"
      ],
      "text/plain": [
       "   saleprice  yrsold  mosold  yearbuilt  yearremodadd  lotarea  alley  \\\n",
       "0     208500    2008       2       2003          2003     8450  False   \n",
       "1     181500    2007       5       1976          1976     9600  False   \n",
       "2     223500    2008       9       2001          2002    11250  False   \n",
       "3     140000    2006       2       1915          1970     9550  False   \n",
       "4     250000    2008      12       2000          2000    14260  False   \n",
       "\n",
       "   overallqual  overallcond  totalbsmtsf  grlivarea  fullbath  bedroomabvgr  \\\n",
       "0            7            5          856       1710         2             3   \n",
       "1            6            8         1262       1262         2             3   \n",
       "2            7            5          920       1786         2             3   \n",
       "3            7            5          756       1717         1             3   \n",
       "4            8            5         1145       2198         2             4   \n",
       "\n",
       "   garagecars  wooddecksf  poolarea  \n",
       "0           2           0         0  \n",
       "1           2         298         0  \n",
       "2           2           0         0  \n",
       "3           3           0         0  \n",
       "4           3         192         0  "
      ]
     },
     "execution_count": 24,
     "metadata": {},
     "output_type": "execute_result"
    }
   ],
   "source": [
    "model_features.head()"
   ]
  },
  {
   "cell_type": "code",
   "execution_count": 25,
   "metadata": {},
   "outputs": [
    {
     "data": {
      "text/html": [
       "<div>\n",
       "<style scoped>\n",
       "    .dataframe tbody tr th:only-of-type {\n",
       "        vertical-align: middle;\n",
       "    }\n",
       "\n",
       "    .dataframe tbody tr th {\n",
       "        vertical-align: top;\n",
       "    }\n",
       "\n",
       "    .dataframe thead th {\n",
       "        text-align: right;\n",
       "    }\n",
       "</style>\n",
       "<table border=\"1\" class=\"dataframe\">\n",
       "  <thead>\n",
       "    <tr style=\"text-align: right;\">\n",
       "      <th></th>\n",
       "      <th>saleprice</th>\n",
       "      <th>yrsold</th>\n",
       "      <th>mosold</th>\n",
       "      <th>yearbuilt</th>\n",
       "      <th>yearremodadd</th>\n",
       "      <th>lotarea</th>\n",
       "      <th>alley</th>\n",
       "      <th>overallqual</th>\n",
       "      <th>overallcond</th>\n",
       "      <th>totalbsmtsf</th>\n",
       "      <th>grlivarea</th>\n",
       "      <th>fullbath</th>\n",
       "      <th>bedroomabvgr</th>\n",
       "      <th>garagecars</th>\n",
       "      <th>wooddecksf</th>\n",
       "      <th>poolarea</th>\n",
       "    </tr>\n",
       "  </thead>\n",
       "  <tbody>\n",
       "    <tr>\n",
       "      <th>saleprice</th>\n",
       "      <td>1.000</td>\n",
       "      <td>-0.029</td>\n",
       "      <td>0.046</td>\n",
       "      <td>0.523</td>\n",
       "      <td>0.507</td>\n",
       "      <td>0.264</td>\n",
       "      <td>-0.124</td>\n",
       "      <td>0.791</td>\n",
       "      <td>-0.078</td>\n",
       "      <td>0.614</td>\n",
       "      <td>0.709</td>\n",
       "      <td>0.561</td>\n",
       "      <td>0.168</td>\n",
       "      <td>0.640</td>\n",
       "      <td>0.324</td>\n",
       "      <td>0.092</td>\n",
       "    </tr>\n",
       "    <tr>\n",
       "      <th>yrsold</th>\n",
       "      <td>-0.029</td>\n",
       "      <td>1.000</td>\n",
       "      <td>-0.146</td>\n",
       "      <td>-0.014</td>\n",
       "      <td>0.036</td>\n",
       "      <td>-0.014</td>\n",
       "      <td>-0.018</td>\n",
       "      <td>-0.027</td>\n",
       "      <td>0.044</td>\n",
       "      <td>-0.015</td>\n",
       "      <td>-0.037</td>\n",
       "      <td>-0.020</td>\n",
       "      <td>-0.036</td>\n",
       "      <td>-0.039</td>\n",
       "      <td>0.022</td>\n",
       "      <td>-0.060</td>\n",
       "    </tr>\n",
       "    <tr>\n",
       "      <th>mosold</th>\n",
       "      <td>0.046</td>\n",
       "      <td>-0.146</td>\n",
       "      <td>1.000</td>\n",
       "      <td>0.012</td>\n",
       "      <td>0.021</td>\n",
       "      <td>0.001</td>\n",
       "      <td>-0.018</td>\n",
       "      <td>0.071</td>\n",
       "      <td>-0.004</td>\n",
       "      <td>0.013</td>\n",
       "      <td>0.050</td>\n",
       "      <td>0.056</td>\n",
       "      <td>0.047</td>\n",
       "      <td>0.041</td>\n",
       "      <td>0.021</td>\n",
       "      <td>-0.034</td>\n",
       "    </tr>\n",
       "    <tr>\n",
       "      <th>yearbuilt</th>\n",
       "      <td>0.523</td>\n",
       "      <td>-0.014</td>\n",
       "      <td>0.012</td>\n",
       "      <td>1.000</td>\n",
       "      <td>0.593</td>\n",
       "      <td>0.014</td>\n",
       "      <td>-0.253</td>\n",
       "      <td>0.572</td>\n",
       "      <td>-0.376</td>\n",
       "      <td>0.391</td>\n",
       "      <td>0.199</td>\n",
       "      <td>0.468</td>\n",
       "      <td>-0.071</td>\n",
       "      <td>0.538</td>\n",
       "      <td>0.225</td>\n",
       "      <td>0.005</td>\n",
       "    </tr>\n",
       "    <tr>\n",
       "      <th>yearremodadd</th>\n",
       "      <td>0.507</td>\n",
       "      <td>0.036</td>\n",
       "      <td>0.021</td>\n",
       "      <td>0.593</td>\n",
       "      <td>1.000</td>\n",
       "      <td>0.014</td>\n",
       "      <td>-0.035</td>\n",
       "      <td>0.551</td>\n",
       "      <td>0.074</td>\n",
       "      <td>0.291</td>\n",
       "      <td>0.287</td>\n",
       "      <td>0.439</td>\n",
       "      <td>-0.041</td>\n",
       "      <td>0.421</td>\n",
       "      <td>0.206</td>\n",
       "      <td>0.006</td>\n",
       "    </tr>\n",
       "    <tr>\n",
       "      <th>lotarea</th>\n",
       "      <td>0.264</td>\n",
       "      <td>-0.014</td>\n",
       "      <td>0.001</td>\n",
       "      <td>0.014</td>\n",
       "      <td>0.014</td>\n",
       "      <td>1.000</td>\n",
       "      <td>-0.076</td>\n",
       "      <td>0.106</td>\n",
       "      <td>-0.006</td>\n",
       "      <td>0.261</td>\n",
       "      <td>0.263</td>\n",
       "      <td>0.126</td>\n",
       "      <td>0.120</td>\n",
       "      <td>0.155</td>\n",
       "      <td>0.172</td>\n",
       "      <td>0.078</td>\n",
       "    </tr>\n",
       "    <tr>\n",
       "      <th>alley</th>\n",
       "      <td>-0.124</td>\n",
       "      <td>-0.018</td>\n",
       "      <td>-0.018</td>\n",
       "      <td>-0.253</td>\n",
       "      <td>-0.035</td>\n",
       "      <td>-0.076</td>\n",
       "      <td>1.000</td>\n",
       "      <td>-0.068</td>\n",
       "      <td>0.073</td>\n",
       "      <td>-0.135</td>\n",
       "      <td>-0.013</td>\n",
       "      <td>-0.038</td>\n",
       "      <td>0.014</td>\n",
       "      <td>-0.071</td>\n",
       "      <td>-0.115</td>\n",
       "      <td>-0.018</td>\n",
       "    </tr>\n",
       "    <tr>\n",
       "      <th>overallqual</th>\n",
       "      <td>0.791</td>\n",
       "      <td>-0.027</td>\n",
       "      <td>0.071</td>\n",
       "      <td>0.572</td>\n",
       "      <td>0.551</td>\n",
       "      <td>0.106</td>\n",
       "      <td>-0.068</td>\n",
       "      <td>1.000</td>\n",
       "      <td>-0.092</td>\n",
       "      <td>0.538</td>\n",
       "      <td>0.593</td>\n",
       "      <td>0.551</td>\n",
       "      <td>0.102</td>\n",
       "      <td>0.601</td>\n",
       "      <td>0.239</td>\n",
       "      <td>0.065</td>\n",
       "    </tr>\n",
       "    <tr>\n",
       "      <th>overallcond</th>\n",
       "      <td>-0.078</td>\n",
       "      <td>0.044</td>\n",
       "      <td>-0.004</td>\n",
       "      <td>-0.376</td>\n",
       "      <td>0.074</td>\n",
       "      <td>-0.006</td>\n",
       "      <td>0.073</td>\n",
       "      <td>-0.092</td>\n",
       "      <td>1.000</td>\n",
       "      <td>-0.171</td>\n",
       "      <td>-0.080</td>\n",
       "      <td>-0.194</td>\n",
       "      <td>0.013</td>\n",
       "      <td>-0.186</td>\n",
       "      <td>-0.003</td>\n",
       "      <td>-0.002</td>\n",
       "    </tr>\n",
       "    <tr>\n",
       "      <th>totalbsmtsf</th>\n",
       "      <td>0.614</td>\n",
       "      <td>-0.015</td>\n",
       "      <td>0.013</td>\n",
       "      <td>0.391</td>\n",
       "      <td>0.291</td>\n",
       "      <td>0.261</td>\n",
       "      <td>-0.135</td>\n",
       "      <td>0.538</td>\n",
       "      <td>-0.171</td>\n",
       "      <td>1.000</td>\n",
       "      <td>0.455</td>\n",
       "      <td>0.324</td>\n",
       "      <td>0.050</td>\n",
       "      <td>0.435</td>\n",
       "      <td>0.232</td>\n",
       "      <td>0.126</td>\n",
       "    </tr>\n",
       "    <tr>\n",
       "      <th>grlivarea</th>\n",
       "      <td>0.709</td>\n",
       "      <td>-0.037</td>\n",
       "      <td>0.050</td>\n",
       "      <td>0.199</td>\n",
       "      <td>0.287</td>\n",
       "      <td>0.263</td>\n",
       "      <td>-0.013</td>\n",
       "      <td>0.593</td>\n",
       "      <td>-0.080</td>\n",
       "      <td>0.455</td>\n",
       "      <td>1.000</td>\n",
       "      <td>0.630</td>\n",
       "      <td>0.521</td>\n",
       "      <td>0.467</td>\n",
       "      <td>0.247</td>\n",
       "      <td>0.170</td>\n",
       "    </tr>\n",
       "    <tr>\n",
       "      <th>fullbath</th>\n",
       "      <td>0.561</td>\n",
       "      <td>-0.020</td>\n",
       "      <td>0.056</td>\n",
       "      <td>0.468</td>\n",
       "      <td>0.439</td>\n",
       "      <td>0.126</td>\n",
       "      <td>-0.038</td>\n",
       "      <td>0.551</td>\n",
       "      <td>-0.194</td>\n",
       "      <td>0.324</td>\n",
       "      <td>0.630</td>\n",
       "      <td>1.000</td>\n",
       "      <td>0.363</td>\n",
       "      <td>0.470</td>\n",
       "      <td>0.188</td>\n",
       "      <td>0.050</td>\n",
       "    </tr>\n",
       "    <tr>\n",
       "      <th>bedroomabvgr</th>\n",
       "      <td>0.168</td>\n",
       "      <td>-0.036</td>\n",
       "      <td>0.047</td>\n",
       "      <td>-0.071</td>\n",
       "      <td>-0.041</td>\n",
       "      <td>0.120</td>\n",
       "      <td>0.014</td>\n",
       "      <td>0.102</td>\n",
       "      <td>0.013</td>\n",
       "      <td>0.050</td>\n",
       "      <td>0.521</td>\n",
       "      <td>0.363</td>\n",
       "      <td>1.000</td>\n",
       "      <td>0.086</td>\n",
       "      <td>0.047</td>\n",
       "      <td>0.071</td>\n",
       "    </tr>\n",
       "    <tr>\n",
       "      <th>garagecars</th>\n",
       "      <td>0.640</td>\n",
       "      <td>-0.039</td>\n",
       "      <td>0.041</td>\n",
       "      <td>0.538</td>\n",
       "      <td>0.421</td>\n",
       "      <td>0.155</td>\n",
       "      <td>-0.071</td>\n",
       "      <td>0.601</td>\n",
       "      <td>-0.186</td>\n",
       "      <td>0.435</td>\n",
       "      <td>0.467</td>\n",
       "      <td>0.470</td>\n",
       "      <td>0.086</td>\n",
       "      <td>1.000</td>\n",
       "      <td>0.226</td>\n",
       "      <td>0.021</td>\n",
       "    </tr>\n",
       "    <tr>\n",
       "      <th>wooddecksf</th>\n",
       "      <td>0.324</td>\n",
       "      <td>0.022</td>\n",
       "      <td>0.021</td>\n",
       "      <td>0.225</td>\n",
       "      <td>0.206</td>\n",
       "      <td>0.172</td>\n",
       "      <td>-0.115</td>\n",
       "      <td>0.239</td>\n",
       "      <td>-0.003</td>\n",
       "      <td>0.232</td>\n",
       "      <td>0.247</td>\n",
       "      <td>0.188</td>\n",
       "      <td>0.047</td>\n",
       "      <td>0.226</td>\n",
       "      <td>1.000</td>\n",
       "      <td>0.073</td>\n",
       "    </tr>\n",
       "    <tr>\n",
       "      <th>poolarea</th>\n",
       "      <td>0.092</td>\n",
       "      <td>-0.060</td>\n",
       "      <td>-0.034</td>\n",
       "      <td>0.005</td>\n",
       "      <td>0.006</td>\n",
       "      <td>0.078</td>\n",
       "      <td>-0.018</td>\n",
       "      <td>0.065</td>\n",
       "      <td>-0.002</td>\n",
       "      <td>0.126</td>\n",
       "      <td>0.170</td>\n",
       "      <td>0.050</td>\n",
       "      <td>0.071</td>\n",
       "      <td>0.021</td>\n",
       "      <td>0.073</td>\n",
       "      <td>1.000</td>\n",
       "    </tr>\n",
       "  </tbody>\n",
       "</table>\n",
       "</div>"
      ],
      "text/plain": [
       "              saleprice  yrsold  mosold  yearbuilt  yearremodadd  lotarea  \\\n",
       "saleprice         1.000  -0.029   0.046      0.523         0.507    0.264   \n",
       "yrsold           -0.029   1.000  -0.146     -0.014         0.036   -0.014   \n",
       "mosold            0.046  -0.146   1.000      0.012         0.021    0.001   \n",
       "yearbuilt         0.523  -0.014   0.012      1.000         0.593    0.014   \n",
       "yearremodadd      0.507   0.036   0.021      0.593         1.000    0.014   \n",
       "lotarea           0.264  -0.014   0.001      0.014         0.014    1.000   \n",
       "alley            -0.124  -0.018  -0.018     -0.253        -0.035   -0.076   \n",
       "overallqual       0.791  -0.027   0.071      0.572         0.551    0.106   \n",
       "overallcond      -0.078   0.044  -0.004     -0.376         0.074   -0.006   \n",
       "totalbsmtsf       0.614  -0.015   0.013      0.391         0.291    0.261   \n",
       "grlivarea         0.709  -0.037   0.050      0.199         0.287    0.263   \n",
       "fullbath          0.561  -0.020   0.056      0.468         0.439    0.126   \n",
       "bedroomabvgr      0.168  -0.036   0.047     -0.071        -0.041    0.120   \n",
       "garagecars        0.640  -0.039   0.041      0.538         0.421    0.155   \n",
       "wooddecksf        0.324   0.022   0.021      0.225         0.206    0.172   \n",
       "poolarea          0.092  -0.060  -0.034      0.005         0.006    0.078   \n",
       "\n",
       "              alley  overallqual  overallcond  totalbsmtsf  grlivarea  \\\n",
       "saleprice    -0.124        0.791       -0.078        0.614      0.709   \n",
       "yrsold       -0.018       -0.027        0.044       -0.015     -0.037   \n",
       "mosold       -0.018        0.071       -0.004        0.013      0.050   \n",
       "yearbuilt    -0.253        0.572       -0.376        0.391      0.199   \n",
       "yearremodadd -0.035        0.551        0.074        0.291      0.287   \n",
       "lotarea      -0.076        0.106       -0.006        0.261      0.263   \n",
       "alley         1.000       -0.068        0.073       -0.135     -0.013   \n",
       "overallqual  -0.068        1.000       -0.092        0.538      0.593   \n",
       "overallcond   0.073       -0.092        1.000       -0.171     -0.080   \n",
       "totalbsmtsf  -0.135        0.538       -0.171        1.000      0.455   \n",
       "grlivarea    -0.013        0.593       -0.080        0.455      1.000   \n",
       "fullbath     -0.038        0.551       -0.194        0.324      0.630   \n",
       "bedroomabvgr  0.014        0.102        0.013        0.050      0.521   \n",
       "garagecars   -0.071        0.601       -0.186        0.435      0.467   \n",
       "wooddecksf   -0.115        0.239       -0.003        0.232      0.247   \n",
       "poolarea     -0.018        0.065       -0.002        0.126      0.170   \n",
       "\n",
       "              fullbath  bedroomabvgr  garagecars  wooddecksf  poolarea  \n",
       "saleprice        0.561         0.168       0.640       0.324     0.092  \n",
       "yrsold          -0.020        -0.036      -0.039       0.022    -0.060  \n",
       "mosold           0.056         0.047       0.041       0.021    -0.034  \n",
       "yearbuilt        0.468        -0.071       0.538       0.225     0.005  \n",
       "yearremodadd     0.439        -0.041       0.421       0.206     0.006  \n",
       "lotarea          0.126         0.120       0.155       0.172     0.078  \n",
       "alley           -0.038         0.014      -0.071      -0.115    -0.018  \n",
       "overallqual      0.551         0.102       0.601       0.239     0.065  \n",
       "overallcond     -0.194         0.013      -0.186      -0.003    -0.002  \n",
       "totalbsmtsf      0.324         0.050       0.435       0.232     0.126  \n",
       "grlivarea        0.630         0.521       0.467       0.247     0.170  \n",
       "fullbath         1.000         0.363       0.470       0.188     0.050  \n",
       "bedroomabvgr     0.363         1.000       0.086       0.047     0.071  \n",
       "garagecars       0.470         0.086       1.000       0.226     0.021  \n",
       "wooddecksf       0.188         0.047       0.226       1.000     0.073  \n",
       "poolarea         0.050         0.071       0.021       0.073     1.000  "
      ]
     },
     "execution_count": 25,
     "metadata": {},
     "output_type": "execute_result"
    }
   ],
   "source": [
    "model_features.corr()"
   ]
  },
  {
   "cell_type": "markdown",
   "metadata": {},
   "source": [
    "We can take the 5 most correlated features from here, keeping in mind to avoid correlated independent variables."
   ]
  },
  {
   "cell_type": "markdown",
   "metadata": {},
   "source": [
    "### Regression Model"
   ]
  },
  {
   "cell_type": "code",
   "execution_count": 26,
   "metadata": {},
   "outputs": [],
   "source": [
    "import statsmodels.api as sm\n",
    "\n",
    "##choose the features for the model\n",
    "X = model_features[['overallqual','totalbsmtsf','grlivarea','garagecars','fullbath']]\n",
    "##sale price is target variable\n",
    "Y = model_features.saleprice"
   ]
  },
  {
   "cell_type": "code",
   "execution_count": 27,
   "metadata": {},
   "outputs": [],
   "source": [
    "##create linear regression object\n",
    "lrm = LinearRegression()"
   ]
  },
  {
   "cell_type": "code",
   "execution_count": 28,
   "metadata": {},
   "outputs": [
    {
     "name": "stdout",
     "output_type": "stream",
     "text": [
      "\n",
      "Coefficients: \n",
      " [23468.50871893    32.62410932    45.09481373 18455.36615427\n",
      "  1143.22241049]\n",
      "\n",
      "Intercept: \n",
      " -99460.00890091163\n"
     ]
    }
   ],
   "source": [
    "##get and print coefficients using OLS\n",
    "lrm.fit(X, Y)\n",
    "print('\\nCoefficients: \\n', lrm.coef_)\n",
    "print('\\nIntercept: \\n', lrm.intercept_)"
   ]
  },
  {
   "cell_type": "code",
   "execution_count": 29,
   "metadata": {},
   "outputs": [
    {
     "data": {
      "text/html": [
       "<table class=\"simpletable\">\n",
       "<caption>OLS Regression Results</caption>\n",
       "<tr>\n",
       "  <th>Dep. Variable:</th>        <td>saleprice</td>    <th>  R-squared:         </th> <td>   0.761</td> \n",
       "</tr>\n",
       "<tr>\n",
       "  <th>Model:</th>                   <td>OLS</td>       <th>  Adj. R-squared:    </th> <td>   0.760</td> \n",
       "</tr>\n",
       "<tr>\n",
       "  <th>Method:</th>             <td>Least Squares</td>  <th>  F-statistic:       </th> <td>   924.4</td> \n",
       "</tr>\n",
       "<tr>\n",
       "  <th>Date:</th>             <td>Fri, 20 Sep 2019</td> <th>  Prob (F-statistic):</th>  <td>  0.00</td>  \n",
       "</tr>\n",
       "<tr>\n",
       "  <th>Time:</th>                 <td>13:47:47</td>     <th>  Log-Likelihood:    </th> <td> -17500.</td> \n",
       "</tr>\n",
       "<tr>\n",
       "  <th>No. Observations:</th>      <td>  1460</td>      <th>  AIC:               </th> <td>3.501e+04</td>\n",
       "</tr>\n",
       "<tr>\n",
       "  <th>Df Residuals:</th>          <td>  1454</td>      <th>  BIC:               </th> <td>3.504e+04</td>\n",
       "</tr>\n",
       "<tr>\n",
       "  <th>Df Model:</th>              <td>     5</td>      <th>                     </th>     <td> </td>    \n",
       "</tr>\n",
       "<tr>\n",
       "  <th>Covariance Type:</th>      <td>nonrobust</td>    <th>                     </th>     <td> </td>    \n",
       "</tr>\n",
       "</table>\n",
       "<table class=\"simpletable\">\n",
       "<tr>\n",
       "       <td></td>          <th>coef</th>     <th>std err</th>      <th>t</th>      <th>P>|t|</th>  <th>[0.025</th>    <th>0.975]</th>  \n",
       "</tr>\n",
       "<tr>\n",
       "  <th>const</th>       <td>-9.946e+04</td> <td> 4664.407</td> <td>  -21.323</td> <td> 0.000</td> <td>-1.09e+05</td> <td>-9.03e+04</td>\n",
       "</tr>\n",
       "<tr>\n",
       "  <th>overallqual</th> <td> 2.347e+04</td> <td> 1096.846</td> <td>   21.396</td> <td> 0.000</td> <td> 2.13e+04</td> <td> 2.56e+04</td>\n",
       "</tr>\n",
       "<tr>\n",
       "  <th>totalbsmtsf</th> <td>   32.6241</td> <td>    2.848</td> <td>   11.455</td> <td> 0.000</td> <td>   27.038</td> <td>   38.211</td>\n",
       "</tr>\n",
       "<tr>\n",
       "  <th>grlivarea</th>   <td>   45.0948</td> <td>    2.763</td> <td>   16.322</td> <td> 0.000</td> <td>   39.675</td> <td>   50.514</td>\n",
       "</tr>\n",
       "<tr>\n",
       "  <th>garagecars</th>  <td> 1.846e+04</td> <td> 1770.103</td> <td>   10.426</td> <td> 0.000</td> <td>  1.5e+04</td> <td> 2.19e+04</td>\n",
       "</tr>\n",
       "<tr>\n",
       "  <th>fullbath</th>    <td> 1143.2224</td> <td> 2519.600</td> <td>    0.454</td> <td> 0.650</td> <td>-3799.216</td> <td> 6085.661</td>\n",
       "</tr>\n",
       "</table>\n",
       "<table class=\"simpletable\">\n",
       "<tr>\n",
       "  <th>Omnibus:</th>       <td>418.319</td> <th>  Durbin-Watson:     </th> <td>   1.968</td> \n",
       "</tr>\n",
       "<tr>\n",
       "  <th>Prob(Omnibus):</th> <td> 0.000</td>  <th>  Jarque-Bera (JB):  </th> <td>36201.837</td>\n",
       "</tr>\n",
       "<tr>\n",
       "  <th>Skew:</th>          <td>-0.256</td>  <th>  Prob(JB):          </th> <td>    0.00</td> \n",
       "</tr>\n",
       "<tr>\n",
       "  <th>Kurtosis:</th>      <td>27.389</td>  <th>  Cond. No.          </th> <td>9.00e+03</td> \n",
       "</tr>\n",
       "</table><br/><br/>Warnings:<br/>[1] Standard Errors assume that the covariance matrix of the errors is correctly specified.<br/>[2] The condition number is large,  9e+03. This might indicate that there are<br/>strong multicollinearity or other numerical problems."
      ],
      "text/plain": [
       "<class 'statsmodels.iolib.summary.Summary'>\n",
       "\"\"\"\n",
       "                            OLS Regression Results                            \n",
       "==============================================================================\n",
       "Dep. Variable:              saleprice   R-squared:                       0.761\n",
       "Model:                            OLS   Adj. R-squared:                  0.760\n",
       "Method:                 Least Squares   F-statistic:                     924.4\n",
       "Date:                Fri, 20 Sep 2019   Prob (F-statistic):               0.00\n",
       "Time:                        13:47:47   Log-Likelihood:                -17500.\n",
       "No. Observations:                1460   AIC:                         3.501e+04\n",
       "Df Residuals:                    1454   BIC:                         3.504e+04\n",
       "Df Model:                           5                                         \n",
       "Covariance Type:            nonrobust                                         \n",
       "===============================================================================\n",
       "                  coef    std err          t      P>|t|      [0.025      0.975]\n",
       "-------------------------------------------------------------------------------\n",
       "const       -9.946e+04   4664.407    -21.323      0.000   -1.09e+05   -9.03e+04\n",
       "overallqual  2.347e+04   1096.846     21.396      0.000    2.13e+04    2.56e+04\n",
       "totalbsmtsf    32.6241      2.848     11.455      0.000      27.038      38.211\n",
       "grlivarea      45.0948      2.763     16.322      0.000      39.675      50.514\n",
       "garagecars   1.846e+04   1770.103     10.426      0.000     1.5e+04    2.19e+04\n",
       "fullbath     1143.2224   2519.600      0.454      0.650   -3799.216    6085.661\n",
       "==============================================================================\n",
       "Omnibus:                      418.319   Durbin-Watson:                   1.968\n",
       "Prob(Omnibus):                  0.000   Jarque-Bera (JB):            36201.837\n",
       "Skew:                          -0.256   Prob(JB):                         0.00\n",
       "Kurtosis:                      27.389   Cond. No.                     9.00e+03\n",
       "==============================================================================\n",
       "\n",
       "Warnings:\n",
       "[1] Standard Errors assume that the covariance matrix of the errors is correctly specified.\n",
       "[2] The condition number is large,  9e+03. This might indicate that there are\n",
       "strong multicollinearity or other numerical problems.\n",
       "\"\"\""
      ]
     },
     "execution_count": 29,
     "metadata": {},
     "output_type": "execute_result"
    }
   ],
   "source": [
    "X = sm.add_constant(X)\n",
    "\n",
    "results = sm.OLS(Y, X).fit()\n",
    "\n",
    "results.summary()"
   ]
  },
  {
   "cell_type": "markdown",
   "metadata": {},
   "source": [
    "The fullbath feature is not statistically significant. Let's remove it."
   ]
  },
  {
   "cell_type": "code",
   "execution_count": 30,
   "metadata": {},
   "outputs": [],
   "source": [
    "##drop fullbath feature\n",
    "X.drop(columns=['fullbath'], inplace=True)"
   ]
  },
  {
   "cell_type": "code",
   "execution_count": 31,
   "metadata": {},
   "outputs": [
    {
     "data": {
      "text/html": [
       "<table class=\"simpletable\">\n",
       "<caption>OLS Regression Results</caption>\n",
       "<tr>\n",
       "  <th>Dep. Variable:</th>        <td>saleprice</td>    <th>  R-squared:         </th> <td>   0.761</td> \n",
       "</tr>\n",
       "<tr>\n",
       "  <th>Model:</th>                   <td>OLS</td>       <th>  Adj. R-squared:    </th> <td>   0.760</td> \n",
       "</tr>\n",
       "<tr>\n",
       "  <th>Method:</th>             <td>Least Squares</td>  <th>  F-statistic:       </th> <td>   1156.</td> \n",
       "</tr>\n",
       "<tr>\n",
       "  <th>Date:</th>             <td>Fri, 20 Sep 2019</td> <th>  Prob (F-statistic):</th>  <td>  0.00</td>  \n",
       "</tr>\n",
       "<tr>\n",
       "  <th>Time:</th>                 <td>13:47:47</td>     <th>  Log-Likelihood:    </th> <td> -17500.</td> \n",
       "</tr>\n",
       "<tr>\n",
       "  <th>No. Observations:</th>      <td>  1460</td>      <th>  AIC:               </th> <td>3.501e+04</td>\n",
       "</tr>\n",
       "<tr>\n",
       "  <th>Df Residuals:</th>          <td>  1455</td>      <th>  BIC:               </th> <td>3.504e+04</td>\n",
       "</tr>\n",
       "<tr>\n",
       "  <th>Df Model:</th>              <td>     4</td>      <th>                     </th>     <td> </td>    \n",
       "</tr>\n",
       "<tr>\n",
       "  <th>Covariance Type:</th>      <td>nonrobust</td>    <th>                     </th>     <td> </td>    \n",
       "</tr>\n",
       "</table>\n",
       "<table class=\"simpletable\">\n",
       "<tr>\n",
       "       <td></td>          <th>coef</th>     <th>std err</th>      <th>t</th>      <th>P>|t|</th>  <th>[0.025</th>    <th>0.975]</th>  \n",
       "</tr>\n",
       "<tr>\n",
       "  <th>const</th>       <td>-9.925e+04</td> <td> 4639.866</td> <td>  -21.390</td> <td> 0.000</td> <td>-1.08e+05</td> <td>-9.01e+04</td>\n",
       "</tr>\n",
       "<tr>\n",
       "  <th>overallqual</th> <td> 2.357e+04</td> <td> 1072.465</td> <td>   21.980</td> <td> 0.000</td> <td> 2.15e+04</td> <td> 2.57e+04</td>\n",
       "</tr>\n",
       "<tr>\n",
       "  <th>totalbsmtsf</th> <td>   32.5203</td> <td>    2.838</td> <td>   11.459</td> <td> 0.000</td> <td>   26.953</td> <td>   38.087</td>\n",
       "</tr>\n",
       "<tr>\n",
       "  <th>grlivarea</th>   <td>   45.6432</td> <td>    2.484</td> <td>   18.376</td> <td> 0.000</td> <td>   40.771</td> <td>   50.515</td>\n",
       "</tr>\n",
       "<tr>\n",
       "  <th>garagecars</th>  <td> 1.858e+04</td> <td> 1747.412</td> <td>   10.634</td> <td> 0.000</td> <td> 1.52e+04</td> <td>  2.2e+04</td>\n",
       "</tr>\n",
       "</table>\n",
       "<table class=\"simpletable\">\n",
       "<tr>\n",
       "  <th>Omnibus:</th>       <td>421.692</td> <th>  Durbin-Watson:     </th> <td>   1.969</td> \n",
       "</tr>\n",
       "<tr>\n",
       "  <th>Prob(Omnibus):</th> <td> 0.000</td>  <th>  Jarque-Bera (JB):  </th> <td>36798.858</td>\n",
       "</tr>\n",
       "<tr>\n",
       "  <th>Skew:</th>          <td>-0.273</td>  <th>  Prob(JB):          </th> <td>    0.00</td> \n",
       "</tr>\n",
       "<tr>\n",
       "  <th>Kurtosis:</th>      <td>27.589</td>  <th>  Cond. No.          </th> <td>8.95e+03</td> \n",
       "</tr>\n",
       "</table><br/><br/>Warnings:<br/>[1] Standard Errors assume that the covariance matrix of the errors is correctly specified.<br/>[2] The condition number is large, 8.95e+03. This might indicate that there are<br/>strong multicollinearity or other numerical problems."
      ],
      "text/plain": [
       "<class 'statsmodels.iolib.summary.Summary'>\n",
       "\"\"\"\n",
       "                            OLS Regression Results                            \n",
       "==============================================================================\n",
       "Dep. Variable:              saleprice   R-squared:                       0.761\n",
       "Model:                            OLS   Adj. R-squared:                  0.760\n",
       "Method:                 Least Squares   F-statistic:                     1156.\n",
       "Date:                Fri, 20 Sep 2019   Prob (F-statistic):               0.00\n",
       "Time:                        13:47:47   Log-Likelihood:                -17500.\n",
       "No. Observations:                1460   AIC:                         3.501e+04\n",
       "Df Residuals:                    1455   BIC:                         3.504e+04\n",
       "Df Model:                           4                                         \n",
       "Covariance Type:            nonrobust                                         \n",
       "===============================================================================\n",
       "                  coef    std err          t      P>|t|      [0.025      0.975]\n",
       "-------------------------------------------------------------------------------\n",
       "const       -9.925e+04   4639.866    -21.390      0.000   -1.08e+05   -9.01e+04\n",
       "overallqual  2.357e+04   1072.465     21.980      0.000    2.15e+04    2.57e+04\n",
       "totalbsmtsf    32.5203      2.838     11.459      0.000      26.953      38.087\n",
       "grlivarea      45.6432      2.484     18.376      0.000      40.771      50.515\n",
       "garagecars   1.858e+04   1747.412     10.634      0.000    1.52e+04     2.2e+04\n",
       "==============================================================================\n",
       "Omnibus:                      421.692   Durbin-Watson:                   1.969\n",
       "Prob(Omnibus):                  0.000   Jarque-Bera (JB):            36798.858\n",
       "Skew:                          -0.273   Prob(JB):                         0.00\n",
       "Kurtosis:                      27.589   Cond. No.                     8.95e+03\n",
       "==============================================================================\n",
       "\n",
       "Warnings:\n",
       "[1] Standard Errors assume that the covariance matrix of the errors is correctly specified.\n",
       "[2] The condition number is large, 8.95e+03. This might indicate that there are\n",
       "strong multicollinearity or other numerical problems.\n",
       "\"\"\""
      ]
     },
     "execution_count": 31,
     "metadata": {},
     "output_type": "execute_result"
    }
   ],
   "source": [
    "##sale price is target variable\n",
    "Y = model_features.saleprice\n",
    "X = sm.add_constant(X)\n",
    "results = sm.OLS(Y, X).fit()\n",
    "results.summary()"
   ]
  },
  {
   "cell_type": "markdown",
   "metadata": {},
   "source": [
    "Removing fullbath did not affect the other variables at all it seems. Overall quality has the most significant effect on saleprice, amount of cars in the garage next, and basement sq ft and living room area seem to affect saleprice very little."
   ]
  },
  {
   "cell_type": "markdown",
   "metadata": {},
   "source": [
    "### Prediction\n",
    "Now we'll split the data into a training set comprised of 80% of the data and 20% test set."
   ]
  },
  {
   "cell_type": "code",
   "execution_count": 32,
   "metadata": {},
   "outputs": [
    {
     "name": "stdout",
     "output_type": "stream",
     "text": [
      "The number of observations in training set is 1168\n",
      "The number of observations in test set is 292\n"
     ]
    }
   ],
   "source": [
    "#reset the variables\n",
    "X = model_features[['overallqual','totalbsmtsf','grlivarea','garagecars','fullbath']]\n",
    "Y = model_features.saleprice\n",
    "#seperate the data into training and testing sets\n",
    "X_train, X_test, y_train, y_test = train_test_split(X, Y, test_size = 0.2, random_state = 465)\n",
    "\n",
    "print(\"The number of observations in training set is {}\".format(X_train.shape[0]))\n",
    "print(\"The number of observations in test set is {}\".format(X_test.shape[0]))"
   ]
  },
  {
   "cell_type": "code",
   "execution_count": 33,
   "metadata": {},
   "outputs": [
    {
     "name": "stdout",
     "output_type": "stream",
     "text": [
      "                            OLS Regression Results                            \n",
      "==============================================================================\n",
      "Dep. Variable:              saleprice   R-squared:                       0.759\n",
      "Model:                            OLS   Adj. R-squared:                  0.758\n",
      "Method:                 Least Squares   F-statistic:                     730.3\n",
      "Date:                Fri, 20 Sep 2019   Prob (F-statistic):               0.00\n",
      "Time:                        13:47:47   Log-Likelihood:                -13995.\n",
      "No. Observations:                1168   AIC:                         2.800e+04\n",
      "Df Residuals:                    1162   BIC:                         2.803e+04\n",
      "Df Model:                           5                                         \n",
      "Covariance Type:            nonrobust                                         \n",
      "===============================================================================\n",
      "                  coef    std err          t      P>|t|      [0.025      0.975]\n",
      "-------------------------------------------------------------------------------\n",
      "const       -9.932e+04   5239.998    -18.954      0.000    -1.1e+05    -8.9e+04\n",
      "overallqual  2.419e+04   1246.830     19.402      0.000    2.17e+04    2.66e+04\n",
      "totalbsmtsf    28.5356      3.080      9.265      0.000      22.493      34.578\n",
      "grlivarea      42.1024      3.051     13.798      0.000      36.116      48.089\n",
      "garagecars   1.964e+04   1994.308      9.846      0.000    1.57e+04    2.35e+04\n",
      "fullbath     2367.3825   2786.840      0.849      0.396   -3100.420    7835.185\n",
      "==============================================================================\n",
      "Omnibus:                      363.579   Durbin-Watson:                   1.861\n",
      "Prob(Omnibus):                  0.000   Jarque-Bera (JB):            26155.909\n",
      "Skew:                          -0.498   Prob(JB):                         0.00\n",
      "Kurtosis:                      26.162   Cond. No.                     9.11e+03\n",
      "==============================================================================\n",
      "\n",
      "Warnings:\n",
      "[1] Standard Errors assume that the covariance matrix of the errors is correctly specified.\n",
      "[2] The condition number is large, 9.11e+03. This might indicate that there are\n",
      "strong multicollinearity or other numerical problems.\n"
     ]
    }
   ],
   "source": [
    "##add constant\n",
    "X_train = sm.add_constant(X_train)\n",
    "\n",
    "# We fit an OLS model using statsmodels\n",
    "results = sm.OLS(y_train, X_train).fit()\n",
    "\n",
    "# We print the summary results\n",
    "print(results.summary())"
   ]
  },
  {
   "cell_type": "markdown",
   "metadata": {},
   "source": [
    "Here's our training set regression model. Let's continue on to prediction."
   ]
  },
  {
   "cell_type": "code",
   "execution_count": 34,
   "metadata": {},
   "outputs": [
    {
     "data": {
      "image/png": "[encoded data removed]",
      "text/plain": [
       "<Figure size 432x288 with 1 Axes>"
      ]
     },
     "metadata": {
      "needs_background": "light"
     },
     "output_type": "display_data"
    },
    {
     "name": "stdout",
     "output_type": "stream",
     "text": [
      "Mean absolute error of the prediction is: 26089.388543691843\n",
      "Mean squared error of the prediction is: 1578087977.0240414\n",
      "Root mean squared error of the prediction is: 39725.15546884671\n",
      "Mean absolute percentage error of the prediction is: 16.15886841904927\n"
     ]
    }
   ],
   "source": [
    "##add constant\n",
    "X_test = sm.add_constant(X_test)\n",
    "\n",
    "# make predictions\n",
    "y_preds = results.predict(X_test)\n",
    "\n",
    "##plot predicted and true values\n",
    "plt.scatter(y_test, y_preds)\n",
    "plt.plot(y_test, y_test, color=\"red\")\n",
    "plt.xlabel(\"true values\")\n",
    "plt.ylabel(\"predicted values\")\n",
    "plt.title(\"Charges: true and predicted values\")\n",
    "plt.show()\n",
    "\n",
    "print(\"Mean absolute error of the prediction is: {}\".format(mean_absolute_error(y_test, y_preds)))\n",
    "print(\"Mean squared error of the prediction is: {}\".format(mse(y_test, y_preds)))\n",
    "print(\"Root mean squared error of the prediction is: {}\".format(rmse(y_test, y_preds)))\n",
    "print(\"Mean absolute percentage error of the prediction is: {}\".format(np.mean(np.abs((y_test - y_preds) / y_test)) * 100))\n",
    "\n"
   ]
  },
  {
   "cell_type": "markdown",
   "metadata": {},
   "source": [
    "### Testing for overfitting \n",
    "Now we'll try lasso, ridge and ealsicnet regression to see if the model improves.\n",
    "\n",
    "#### OLS regression"
   ]
  },
  {
   "cell_type": "code",
   "execution_count": 35,
   "metadata": {},
   "outputs": [
    {
     "name": "stdout",
     "output_type": "stream",
     "text": [
      "R-squared of the model in training set is: 0.7585926885004111\n",
      "-----Test set statistics-----\n",
      "R-squared of the model in test set is: 0.7649452584687335\n",
      "Mean absolute error of the prediction is: 26089.388543692432\n",
      "Mean squared error of the prediction is: 1578087977.0240114\n",
      "Root mean squared error of the prediction is: 39725.15546884633\n",
      "Mean absolute percentage error of the prediction is: 16.158868419049817\n"
     ]
    }
   ],
   "source": [
    "lrm = LinearRegression()\n",
    "\n",
    "lrm.fit(X_train, y_train)\n",
    "\n",
    "# We are making predictions here\n",
    "y_preds_train = lrm.predict(X_train)\n",
    "y_preds_test = lrm.predict(X_test)\n",
    "\n",
    "print(\"R-squared of the model in training set is: {}\".format(lrm.score(X_train, y_train)))\n",
    "print(\"-----Test set statistics-----\")\n",
    "print(\"R-squared of the model in test set is: {}\".format(lrm.score(X_test, y_test)))\n",
    "print(\"Mean absolute error of the prediction is: {}\".format(mean_absolute_error(y_test, y_preds_test)))\n",
    "print(\"Mean squared error of the prediction is: {}\".format(mse(y_test, y_preds_test)))\n",
    "print(\"Root mean squared error of the prediction is: {}\".format(rmse(y_test, y_preds_test)))\n",
    "print(\"Mean absolute percentage error of the prediction is: {}\".format(np.mean(np.abs((y_test - y_preds_test) / y_test)) * 100))"
   ]
  },
  {
   "cell_type": "markdown",
   "metadata": {},
   "source": [
    "#### Lasso"
   ]
  },
  {
   "cell_type": "code",
   "execution_count": 38,
   "metadata": {},
   "outputs": [
    {
     "name": "stdout",
     "output_type": "stream",
     "text": [
      "Best alpha value is: 100.0\n",
      "R-squared of the model in training set is: 0.7585822955597672\n",
      "-----Test set statistics-----\n",
      "R-squared of the model in test set is: 0.7653834135830011\n",
      "Mean absolute error of the prediction is: 26053.78472321554\n",
      "Mean squared error of the prediction is: 1575146333.2460868\n",
      "Root mean squared error of the prediction is: 39688.11324875607\n",
      "Mean absolute percentage error of the prediction is: 16.13904274741126\n"
     ]
    }
   ],
   "source": [
    "alphas = [np.power(10.0,p) for p in np.arange(-10,40,1)]\n",
    "lasso_cv = LassoCV(alphas=alphas, cv=5)\n",
    "\n",
    "lasso_cv.fit(X_train, y_train)\n",
    "\n",
    "# We are making predictions here\n",
    "y_preds_train = lasso_cv.predict(X_train)\n",
    "y_preds_test = lasso_cv.predict(X_test)\n",
    "\n",
    "print(\"Best alpha value is: {}\".format(lasso_cv.alpha_))\n",
    "print(\"R-squared of the model in training set is: {}\".format(lasso_cv.score(X_train, y_train)))\n",
    "print(\"-----Test set statistics-----\")\n",
    "print(\"R-squared of the model in test set is: {}\".format(lasso_cv.score(X_test, y_test)))\n",
    "print(\"Mean absolute error of the prediction is: {}\".format(mean_absolute_error(y_test, y_preds_test)))\n",
    "print(\"Mean squared error of the prediction is: {}\".format(mse(y_test, y_preds_test)))\n",
    "print(\"Root mean squared error of the prediction is: {}\".format(rmse(y_test, y_preds_test)))\n",
    "print(\"Mean absolute percentage error of the prediction is: {}\".format(np.mean(np.abs((y_test - y_preds_test) / y_test)) * 100))"
   ]
  },
  {
   "cell_type": "markdown",
   "metadata": {},
   "source": [
    "#### Ridge"
   ]
  },
  {
   "cell_type": "code",
   "execution_count": 39,
   "metadata": {},
   "outputs": [
    {
     "name": "stdout",
     "output_type": "stream",
     "text": [
      "Best alpha value is: 1.0\n",
      "R-squared of the model in training set is: 0.7585925572546142\n",
      "-----Test set statistics-----\n",
      "R-squared of the model in test set is: 0.7649976075053515\n",
      "Mean absolute error of the prediction is: 26082.453432866652\n",
      "Mean squared error of the prediction is: 1577736521.0833337\n",
      "Root mean squared error of the prediction is: 39720.73162824841\n",
      "Mean absolute percentage error of the prediction is: 16.153625282254506\n"
     ]
    }
   ],
   "source": [
    "ridge_cv = RidgeCV(alphas=alphas, cv=5)\n",
    "\n",
    "ridge_cv.fit(X_train, y_train)\n",
    "\n",
    "# We are making predictions here\n",
    "y_preds_train = ridge_cv.predict(X_train)\n",
    "y_preds_test = ridge_cv.predict(X_test)\n",
    "\n",
    "print(\"Best alpha value is: {}\".format(ridge_cv.alpha_))\n",
    "print(\"R-squared of the model in training set is: {}\".format(ridge_cv.score(X_train, y_train)))\n",
    "print(\"-----Test set statistics-----\")\n",
    "print(\"R-squared of the model in test set is: {}\".format(ridge_cv.score(X_test, y_test)))\n",
    "print(\"Mean absolute error of the prediction is: {}\".format(mean_absolute_error(y_test, y_preds_test)))\n",
    "print(\"Mean squared error of the prediction is: {}\".format(mse(y_test, y_preds_test)))\n",
    "print(\"Root mean squared error of the prediction is: {}\".format(rmse(y_test, y_preds_test)))\n",
    "print(\"Mean absolute percentage error of the prediction is: {}\".format(np.mean(np.abs((y_test - y_preds_test) / y_test)) * 100))"
   ]
  },
  {
   "cell_type": "markdown",
   "metadata": {},
   "source": [
    "#### ElasticNet"
   ]
  },
  {
   "cell_type": "code",
   "execution_count": 40,
   "metadata": {},
   "outputs": [
    {
     "name": "stdout",
     "output_type": "stream",
     "text": [
      "Best alpha value is: 0.001\n",
      "R-squared of the model in training set is: 0.7585926436763577\n",
      "-----Test set statistics-----\n",
      "R-squared of the model in test set is: 0.7649758702065494\n",
      "Mean absolute error of the prediction is: 26085.337092323294\n",
      "Mean squared error of the prediction is: 1577882458.8749695\n",
      "Root mean squared error of the prediction is: 39722.568633900926\n",
      "Mean absolute percentage error of the prediction is: 16.155805289043013\n"
     ]
    }
   ],
   "source": [
    "\n",
    "elasticnet_cv = ElasticNetCV(alphas=alphas, cv=5)\n",
    "\n",
    "elasticnet_cv.fit(X_train, y_train)\n",
    "\n",
    "# We are making predictions here\n",
    "y_preds_train = elasticnet_cv.predict(X_train)\n",
    "y_preds_test = elasticnet_cv.predict(X_test)\n",
    "\n",
    "print(\"Best alpha value is: {}\".format(elasticnet_cv.alpha_))\n",
    "print(\"R-squared of the model in training set is: {}\".format(elasticnet_cv.score(X_train, y_train)))\n",
    "print(\"-----Test set statistics-----\")\n",
    "print(\"R-squared of the model in test set is: {}\".format(elasticnet_cv.score(X_test, y_test)))\n",
    "print(\"Mean absolute error of the prediction is: {}\".format(mean_absolute_error(y_test, y_preds_test)))\n",
    "print(\"Mean squared error of the prediction is: {}\".format(mse(y_test, y_preds_test)))\n",
    "print(\"Root mean squared error of the prediction is: {}\".format(rmse(y_test, y_preds_test)))\n",
    "print(\"Mean absolute percentage error of the prediction is: {}\".format(np.mean(np.abs((y_test - y_preds_test) / y_test)) * 100))"
   ]
  },
  {
   "cell_type": "markdown",
   "metadata": {},
   "source": [
    "There are very negligible differences among all the regression models."
   ]
  },
  {
   "cell_type": "code",
   "execution_count": null,
   "metadata": {},
   "outputs": [],
   "source": []
  }
 ],
 "metadata": {
  "kernelspec": {
   "display_name": "Python 3",
   "language": "python",
   "name": "python3"
  },
  "language_info": {
   "codemirror_mode": {
    "name": "ipython",
    "version": 3
   },
   "file_extension": ".py",
   "mimetype": "text/x-python",
   "name": "python",
   "nbconvert_exporter": "python",
   "pygments_lexer": "ipython3",
   "version": "3.7.3"
  }
 },
 "nbformat": 4,
 "nbformat_minor": 2
}
